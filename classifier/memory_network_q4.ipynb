{
 "cells": [
  {
   "cell_type": "code",
   "execution_count": 1,
   "metadata": {},
   "outputs": [
    {
     "data": {
      "text/plain": [
       "'Trains a memory network on the bAbI dataset.\\nReferences:\\n- Jason Weston, Antoine Bordes, Sumit Chopra, Tomas Mikolov, Alexander M. Rush,\\n  \"Towards AI-Complete Question Answering: A Set of Prerequisite Toy Tasks\",\\n  http://arxiv.org/abs/1502.05698\\n- Sainbayar Sukhbaatar, Arthur Szlam, Jason Weston, Rob Fergus,\\n  \"End-To-End Memory Networks\",\\n  http://arxiv.org/abs/1503.08895\\nReaches 98.6% accuracy on task \\'single_supporting_fact_10k\\' after 120 epochs.\\nTime per epoch: 3s on CPU (core i7).\\n'"
      ]
     },
     "execution_count": 1,
     "metadata": {},
     "output_type": "execute_result"
    }
   ],
   "source": [
    "'''Trains a memory network on the bAbI dataset.\n",
    "References:\n",
    "- Jason Weston, Antoine Bordes, Sumit Chopra, Tomas Mikolov, Alexander M. Rush,\n",
    "  \"Towards AI-Complete Question Answering: A Set of Prerequisite Toy Tasks\",\n",
    "  http://arxiv.org/abs/1502.05698\n",
    "- Sainbayar Sukhbaatar, Arthur Szlam, Jason Weston, Rob Fergus,\n",
    "  \"End-To-End Memory Networks\",\n",
    "  http://arxiv.org/abs/1503.08895\n",
    "Reaches 98.6% accuracy on task 'single_supporting_fact_10k' after 120 epochs.\n",
    "Time per epoch: 3s on CPU (core i7).\n",
    "'''"
   ]
  },
  {
   "cell_type": "code",
   "execution_count": 2,
   "metadata": {},
   "outputs": [
    {
     "name": "stderr",
     "output_type": "stream",
     "text": [
      "C:\\ProgramData\\Anaconda3\\lib\\site-packages\\h5py\\__init__.py:36: FutureWarning: Conversion of the second argument of issubdtype from `float` to `np.floating` is deprecated. In future, it will be treated as `np.float64 == np.dtype(float).type`.\n",
      "  from ._conv import register_converters as _register_converters\n",
      "Using TensorFlow backend.\n"
     ]
    }
   ],
   "source": [
    "from __future__ import print_function\n",
    "\n",
    "from keras.models import Sequential, Model\n",
    "from keras.layers.embeddings import Embedding\n",
    "from keras.layers import Input, Activation, Dense, Permute, Dropout\n",
    "from keras.layers import add, dot, concatenate\n",
    "from keras.layers import LSTM\n",
    "from keras.utils.data_utils import get_file\n",
    "from keras.preprocessing.sequence import pad_sequences\n",
    "from functools import reduce\n",
    "import tarfile\n",
    "import numpy as np\n",
    "import re"
   ]
  },
  {
   "cell_type": "code",
   "execution_count": 3,
   "metadata": {},
   "outputs": [],
   "source": [
    "def tokenize(sent):\n",
    "    '''Return the tokens of a sentence including punctuation.\n",
    "    >>> tokenize('Bob dropped the apple. Where is the apple?')\n",
    "    ['Bob', 'dropped', 'the', 'apple', '.', 'Where', 'is', 'the', 'apple', '?']\n",
    "    '''\n",
    "    return [x.strip() for x in re.split('(\\W+)?', sent) if x.strip()]"
   ]
  },
  {
   "cell_type": "code",
   "execution_count": 4,
   "metadata": {},
   "outputs": [],
   "source": [
    "def parse_stories(lines, only_supporting=False):\n",
    "    '''Parse stories provided in the bAbi tasks format\n",
    "    If only_supporting is true, only the sentences\n",
    "    that support the answer are kept.\n",
    "    '''\n",
    "    data = []\n",
    "    story = []\n",
    "    for line in lines:\n",
    "        line = line.decode('utf-8').strip()\n",
    "        nid, line = line.split(' ', 1)\n",
    "        nid = int(nid)\n",
    "        if nid == 1:\n",
    "            story = []\n",
    "        if '\\t' in line:\n",
    "            q, a, supporting = line.split('\\t')\n",
    "            q = tokenize(q)\n",
    "            substory = None\n",
    "            if only_supporting:\n",
    "                # Only select the related substory\n",
    "                supporting = map(int, supporting.split())\n",
    "                substory = [story[i - 1] for i in supporting]\n",
    "            else:\n",
    "                # Provide all the substories\n",
    "                substory = [x for x in story if x]\n",
    "            data.append((substory, q, a))\n",
    "            story.append('')\n",
    "        else:\n",
    "            sent = tokenize(line)\n",
    "            story.append(sent)\n",
    "    return data"
   ]
  },
  {
   "cell_type": "code",
   "execution_count": 5,
   "metadata": {},
   "outputs": [],
   "source": [
    "def get_stories(f, only_supporting=False, max_length=None):\n",
    "    '''Given a file name, read the file,\n",
    "    retrieve the stories,\n",
    "    and then convert the sentences into a single story.\n",
    "    If max_length is supplied,\n",
    "    any stories longer than max_length tokens will be discarded.\n",
    "    '''\n",
    "    data = parse_stories(f.readlines(), only_supporting=only_supporting)\n",
    "    flatten = lambda data: reduce(lambda x, y: x + y, data)\n",
    "    data = [(flatten(story), q, answer) for story, q, answer in data if not max_length or len(flatten(story)) < max_length]\n",
    "    return data\n"
   ]
  },
  {
   "cell_type": "code",
   "execution_count": 6,
   "metadata": {},
   "outputs": [],
   "source": [
    "def vectorize_stories(data, word_idx, story_maxlen, query_maxlen):\n",
    "    X = []\n",
    "    Xq = []\n",
    "    Y = []\n",
    "    for story, query, answer in data:\n",
    "        x = [word_idx[w] for w in story]\n",
    "        xq = [word_idx[w] for w in query]\n",
    "        # let's not forget that index 0 is reserved\n",
    "        y = np.zeros(len(word_idx) + 1)\n",
    "        y[word_idx[answer]] = 1\n",
    "        X.append(x)\n",
    "        Xq.append(xq)\n",
    "        Y.append(y)\n",
    "    return (pad_sequences(X, maxlen=story_maxlen),\n",
    "            pad_sequences(Xq, maxlen=query_maxlen), np.array(Y))"
   ]
  },
  {
   "cell_type": "code",
   "execution_count": 7,
   "metadata": {},
   "outputs": [],
   "source": [
    "try:\n",
    "    path = get_file('babi-tasks-v1-2.tar.gz', origin='https://s3.amazonaws.com/text-datasets/babi_tasks_1-20_v1-2.tar.gz')\n",
    "except:\n",
    "    print('Error downloading dataset, please download it manually:\\n'\n",
    "          '$ wget http://www.thespermwhale.com/jaseweston/babi/tasks_1-20_v1-2.tar.gz\\n'\n",
    "          '$ mv tasks_1-20_v1-2.tar.gz ~/.keras/datasets/babi-tasks-v1-2.tar.gz')\n",
    "    raise\n",
    "tar = tarfile.open(path)\n"
   ]
  },
  {
   "cell_type": "code",
   "execution_count": 8,
   "metadata": {},
   "outputs": [],
   "source": [
    "challenges = {\n",
    "    # QA1 with 10,000 samples\n",
    "    'single_supporting_fact_10k': 'tasks_1-20_v1-2/en-10k/qa1_single-supporting-fact_{}.txt',\n",
    "    # QA2 with 10,000 samples\n",
    "    'two_supporting_facts_10k': 'tasks_1-20_v1-2/en-10k/qa2_two-supporting-facts_{}.txt',\n",
    "\n",
    "    'two_arg_relations_10k': 'tasks_1-20_v1-2/en-10k/qa4_two-arg-relations_{}.txt',\n",
    "\n",
    "    'qa6_yes_no_ques_10k': 'tasks_1-20_v1-2/en-10k/qa6_yes-no-questions_{}.txt',\n",
    "}\n",
    "challenge_type = 'two_arg_relations_10k'\n",
    "challenge = challenges[challenge_type]"
   ]
  },
  {
   "cell_type": "code",
   "execution_count": 9,
   "metadata": {},
   "outputs": [
    {
     "name": "stdout",
     "output_type": "stream",
     "text": [
      "Extracting stories for the challenge: two_arg_relations_10k\n"
     ]
    },
    {
     "name": "stderr",
     "output_type": "stream",
     "text": [
      "C:\\ProgramData\\Anaconda3\\lib\\re.py:212: FutureWarning: split() requires a non-empty pattern match.\n",
      "  return _compile(pattern, flags).split(string, maxsplit)\n"
     ]
    }
   ],
   "source": [
    "print('Extracting stories for the challenge:', challenge_type)\n",
    "train_stories = get_stories(tar.extractfile(challenge.format('train')))\n",
    "test_stories = get_stories(tar.extractfile(challenge.format('test')))"
   ]
  },
  {
   "cell_type": "code",
   "execution_count": 10,
   "metadata": {},
   "outputs": [],
   "source": [
    "vocab = set()\n",
    "for story, q, answer in train_stories + test_stories:\n",
    "    vocab |= set(story + q + [answer])\n",
    "vocab = sorted(vocab)"
   ]
  },
  {
   "cell_type": "code",
   "execution_count": 11,
   "metadata": {},
   "outputs": [
    {
     "name": "stdout",
     "output_type": "stream",
     "text": [
      "-\n",
      "Vocab size: 18 unique words\n",
      "Story max length: 16 words\n",
      "Query max length: 7 words\n",
      "Number of training stories: 10000\n",
      "Number of test stories: 1000\n",
      "-\n",
      "Here's what a \"story\" tuple looks like (input, query, answer):\n",
      "(['The', 'kitchen', 'is', 'west', 'of', 'the', 'garden', '.', 'The', 'hallway', 'is', 'west', 'of', 'the', 'kitchen', '.'], ['What', 'is', 'the', 'garden', 'east', 'of', '?'], 'kitchen')\n",
      "-\n",
      "Vectorizing the word sequences...\n"
     ]
    }
   ],
   "source": [
    "# Reserve 0 for masking via pad_sequences\n",
    "vocab_size = len(vocab) + 1\n",
    "story_maxlen = max(map(len, (x for x, _, _ in train_stories + test_stories)))\n",
    "query_maxlen = max(map(len, (x for _, x, _ in train_stories + test_stories)))\n",
    "\n",
    "print('-')\n",
    "print('Vocab size:', vocab_size, 'unique words')\n",
    "print('Story max length:', story_maxlen, 'words')\n",
    "print('Query max length:', query_maxlen, 'words')\n",
    "print('Number of training stories:', len(train_stories))\n",
    "print('Number of test stories:', len(test_stories))\n",
    "print('-')\n",
    "print('Here\\'s what a \"story\" tuple looks like (input, query, answer):')\n",
    "print(train_stories[1])\n",
    "print('-')\n",
    "print('Vectorizing the word sequences...')\n",
    "\n",
    "word_idx = dict((c, i + 1) for i, c in enumerate(vocab))"
   ]
  },
  {
   "cell_type": "code",
   "execution_count": 12,
   "metadata": {},
   "outputs": [],
   "source": [
    "inputs_train, queries_train, answers_train = vectorize_stories(train_stories,\n",
    "                                                               word_idx,\n",
    "                                                               story_maxlen,\n",
    "                                                               query_maxlen)\n",
    "inputs_test, queries_test, answers_test = vectorize_stories(test_stories,\n",
    "                                                            word_idx,\n",
    "                                                            story_maxlen,\n",
    "                                                            query_maxlen)"
   ]
  },
  {
   "cell_type": "code",
   "execution_count": 13,
   "metadata": {},
   "outputs": [
    {
     "name": "stdout",
     "output_type": "stream",
     "text": [
      "-\n",
      "inputs: integer tensor of shape (samples, max_length)\n",
      "inputs_train shape: (10000, 16)\n",
      "inputs_test shape: (1000, 16)\n",
      "-\n",
      "queries: integer tensor of shape (samples, max_length)\n",
      "queries_train shape: (10000, 7)\n",
      "queries_test shape: (1000, 7)\n",
      "-\n",
      "answers: binary (1 or 0) tensor of shape (samples, vocab_size)\n",
      "answers_train shape: (10000, 18)\n",
      "answers_test shape: (1000, 18)\n",
      "-\n",
      "Compiling...\n"
     ]
    }
   ],
   "source": [
    "print('-')\n",
    "print('inputs: integer tensor of shape (samples, max_length)')\n",
    "print('inputs_train shape:', inputs_train.shape)\n",
    "print('inputs_test shape:', inputs_test.shape)\n",
    "print('-')\n",
    "print('queries: integer tensor of shape (samples, max_length)')\n",
    "print('queries_train shape:', queries_train.shape)\n",
    "print('queries_test shape:', queries_test.shape)\n",
    "print('-')\n",
    "print('answers: binary (1 or 0) tensor of shape (samples, vocab_size)')\n",
    "print('answers_train shape:', answers_train.shape)\n",
    "print('answers_test shape:', answers_test.shape)\n",
    "print('-')\n",
    "print('Compiling...')"
   ]
  },
  {
   "cell_type": "code",
   "execution_count": 14,
   "metadata": {},
   "outputs": [],
   "source": [
    "# placeholders\n",
    "input_sequence = Input((story_maxlen,))\n",
    "question = Input((query_maxlen,))"
   ]
  },
  {
   "cell_type": "code",
   "execution_count": 15,
   "metadata": {},
   "outputs": [],
   "source": [
    "# encoders\n",
    "# embed the input sequence into a sequence of vectors\n",
    "input_encoder_m = Sequential()\n",
    "input_encoder_m.add(Embedding(input_dim=vocab_size,\n",
    "                              output_dim=64))\n",
    "input_encoder_m.add(Dropout(0.3))\n",
    "# output: (samples, story_maxlen, embedding_dim)"
   ]
  },
  {
   "cell_type": "code",
   "execution_count": 16,
   "metadata": {},
   "outputs": [],
   "source": [
    "# embed the input into a sequence of vectors of size query_maxlen\n",
    "input_encoder_c = Sequential()\n",
    "input_encoder_c.add(Embedding(input_dim=vocab_size,\n",
    "                              output_dim=query_maxlen))\n",
    "input_encoder_c.add(Dropout(0.3))\n",
    "# output: (samples, story_maxlen, query_maxlen)\n",
    "\n",
    "# embed the question into a sequence of vectors\n",
    "question_encoder = Sequential()\n",
    "question_encoder.add(Embedding(input_dim=vocab_size,\n",
    "                               output_dim=64,\n",
    "                               input_length=query_maxlen))\n",
    "question_encoder.add(Dropout(0.3))\n",
    "# output: (samples, query_maxlen, embedding_dim)"
   ]
  },
  {
   "cell_type": "code",
   "execution_count": 17,
   "metadata": {},
   "outputs": [],
   "source": [
    "# encode input sequence and questions (which are indices)\n",
    "# to sequences of dense vectors\n",
    "input_encoded_m = input_encoder_m(input_sequence)\n",
    "input_encoded_c = input_encoder_c(input_sequence)\n",
    "question_encoded = question_encoder(question)"
   ]
  },
  {
   "cell_type": "code",
   "execution_count": 18,
   "metadata": {},
   "outputs": [],
   "source": [
    "# compute a 'match' between the first input vector sequence\n",
    "# and the question vector sequence\n",
    "# shape: `(samples, story_maxlen, query_maxlen)`\n",
    "match = dot([input_encoded_m, question_encoded], axes=(2, 2))\n",
    "match = Activation('softmax')(match)\n"
   ]
  },
  {
   "cell_type": "code",
   "execution_count": 19,
   "metadata": {},
   "outputs": [],
   "source": [
    "# add the match matrix with the second input vector sequence\n",
    "response = add([match, input_encoded_c])  # (samples, story_maxlen, query_maxlen)\n",
    "response = Permute((2, 1))(response)  # (samples, query_maxlen, story_maxlen)\n",
    "\n",
    "# concatenate the match matrix with the question vector sequence\n",
    "answer = concatenate([response, question_encoded])\n",
    "\n",
    "# the original paper uses a matrix multiplication for this reduction step.\n",
    "# we choose to use a RNN instead.\n",
    "answer = LSTM(32)(answer)  # (samples, 32)"
   ]
  },
  {
   "cell_type": "code",
   "execution_count": 20,
   "metadata": {},
   "outputs": [],
   "source": [
    "# one regularization layer -- more would probably be needed.\n",
    "answer = Dropout(0.3)(answer)\n",
    "answer = Dense(vocab_size)(answer)  # (samples, vocab_size)\n",
    "# we output a probability distribution over the vocabulary\n",
    "answer = Activation('softmax')(answer)\n"
   ]
  },
  {
   "cell_type": "code",
   "execution_count": 21,
   "metadata": {},
   "outputs": [
    {
     "name": "stdout",
     "output_type": "stream",
     "text": [
      "Train on 10000 samples, validate on 1000 samples\n",
      "Epoch 1/60\n",
      "10000/10000 [==============================] - 8s 842us/step - loss: 1.9042 - acc: 0.1947 - val_loss: 1.6908 - val_acc: 0.2500\n",
      "Epoch 2/60\n",
      "10000/10000 [==============================] - 5s 493us/step - loss: 1.5320 - acc: 0.3384 - val_loss: 1.4515 - val_acc: 0.3600\n",
      "Epoch 3/60\n",
      "10000/10000 [==============================] - 5s 487us/step - loss: 1.4182 - acc: 0.4045 - val_loss: 1.2698 - val_acc: 0.4670\n",
      "Epoch 4/60\n",
      "10000/10000 [==============================] - 5s 489us/step - loss: 1.2688 - acc: 0.4808 - val_loss: 1.1019 - val_acc: 0.5400\n",
      "Epoch 5/60\n",
      "10000/10000 [==============================] - 5s 492us/step - loss: 1.1615 - acc: 0.5189 - val_loss: 0.9944 - val_acc: 0.5730\n",
      "Epoch 6/60\n",
      "10000/10000 [==============================] - 5s 492us/step - loss: 1.0741 - acc: 0.5619 - val_loss: 0.8544 - val_acc: 0.6570\n",
      "Epoch 7/60\n",
      "10000/10000 [==============================] - 5s 494us/step - loss: 0.9892 - acc: 0.5877 - val_loss: 0.7846 - val_acc: 0.6730\n",
      "Epoch 8/60\n",
      "10000/10000 [==============================] - 5s 487us/step - loss: 0.9423 - acc: 0.6021 - val_loss: 0.7435 - val_acc: 0.6620\n",
      "Epoch 9/60\n",
      "10000/10000 [==============================] - 5s 490us/step - loss: 0.9005 - acc: 0.6211 - val_loss: 0.6857 - val_acc: 0.7030\n",
      "Epoch 10/60\n",
      "10000/10000 [==============================] - 5s 489us/step - loss: 0.8614 - acc: 0.6368 - val_loss: 0.6650 - val_acc: 0.7050\n",
      "Epoch 11/60\n",
      "10000/10000 [==============================] - 5s 489us/step - loss: 0.8291 - acc: 0.6534 - val_loss: 0.6542 - val_acc: 0.7010\n",
      "Epoch 12/60\n",
      "10000/10000 [==============================] - 5s 490us/step - loss: 0.7917 - acc: 0.6606 - val_loss: 0.5882 - val_acc: 0.7260\n",
      "Epoch 13/60\n",
      "10000/10000 [==============================] - 5s 492us/step - loss: 0.7594 - acc: 0.6792 - val_loss: 0.5329 - val_acc: 0.7580\n",
      "Epoch 14/60\n",
      "10000/10000 [==============================] - 5s 490us/step - loss: 0.7296 - acc: 0.6923 - val_loss: 0.5242 - val_acc: 0.7630\n",
      "Epoch 15/60\n",
      "10000/10000 [==============================] - 5s 489us/step - loss: 0.7088 - acc: 0.6926 - val_loss: 0.5249 - val_acc: 0.7540\n",
      "Epoch 16/60\n",
      "10000/10000 [==============================] - 5s 488us/step - loss: 0.6856 - acc: 0.7019 - val_loss: 0.5184 - val_acc: 0.7780\n",
      "Epoch 17/60\n",
      "10000/10000 [==============================] - 5s 491us/step - loss: 0.6703 - acc: 0.7050 - val_loss: 0.5025 - val_acc: 0.7660\n",
      "Epoch 18/60\n",
      "10000/10000 [==============================] - 5s 492us/step - loss: 0.6384 - acc: 0.7147 - val_loss: 0.4565 - val_acc: 0.7730\n",
      "Epoch 19/60\n",
      "10000/10000 [==============================] - 5s 492us/step - loss: 0.6330 - acc: 0.7158 - val_loss: 0.4682 - val_acc: 0.7730\n",
      "Epoch 20/60\n",
      "10000/10000 [==============================] - 5s 489us/step - loss: 0.6095 - acc: 0.7290 - val_loss: 0.5426 - val_acc: 0.7370\n",
      "Epoch 21/60\n",
      "10000/10000 [==============================] - 5s 488us/step - loss: 0.5999 - acc: 0.7309 - val_loss: 0.4465 - val_acc: 0.7700\n",
      "Epoch 22/60\n",
      "10000/10000 [==============================] - 5s 491us/step - loss: 0.5961 - acc: 0.7369 - val_loss: 0.4440 - val_acc: 0.7700\n",
      "Epoch 23/60\n",
      "10000/10000 [==============================] - 5s 490us/step - loss: 0.5894 - acc: 0.7324 - val_loss: 0.4260 - val_acc: 0.7660\n",
      "Epoch 24/60\n",
      "10000/10000 [==============================] - 5s 490us/step - loss: 0.5736 - acc: 0.7374 - val_loss: 0.4449 - val_acc: 0.7780\n",
      "Epoch 25/60\n",
      "10000/10000 [==============================] - 5s 491us/step - loss: 0.5743 - acc: 0.7343 - val_loss: 0.4396 - val_acc: 0.7770\n",
      "Epoch 26/60\n",
      "10000/10000 [==============================] - 5s 488us/step - loss: 0.5569 - acc: 0.7443 - val_loss: 0.4308 - val_acc: 0.7680\n",
      "Epoch 27/60\n",
      "10000/10000 [==============================] - 5s 492us/step - loss: 0.5510 - acc: 0.7453 - val_loss: 0.4444 - val_acc: 0.7760\n",
      "Epoch 28/60\n",
      "10000/10000 [==============================] - 5s 489us/step - loss: 0.5314 - acc: 0.7558 - val_loss: 0.4422 - val_acc: 0.7710\n",
      "Epoch 29/60\n",
      "10000/10000 [==============================] - 5s 490us/step - loss: 0.5364 - acc: 0.7508 - val_loss: 0.4086 - val_acc: 0.7780\n",
      "Epoch 30/60\n",
      "10000/10000 [==============================] - 5s 494us/step - loss: 0.5267 - acc: 0.7537 - val_loss: 0.4014 - val_acc: 0.7760\n",
      "Epoch 31/60\n",
      "10000/10000 [==============================] - 5s 492us/step - loss: 0.5190 - acc: 0.7579 - val_loss: 0.4075 - val_acc: 0.7620\n",
      "Epoch 32/60\n",
      "10000/10000 [==============================] - 5s 491us/step - loss: 0.5264 - acc: 0.7491 - val_loss: 0.4096 - val_acc: 0.7660\n",
      "Epoch 33/60\n",
      "10000/10000 [==============================] - 5s 507us/step - loss: 0.5110 - acc: 0.7550 - val_loss: 0.4066 - val_acc: 0.7700\n",
      "Epoch 34/60\n",
      "10000/10000 [==============================] - 5s 490us/step - loss: 0.4998 - acc: 0.7601 - val_loss: 0.3963 - val_acc: 0.7740\n",
      "Epoch 35/60\n",
      "10000/10000 [==============================] - 5s 495us/step - loss: 0.4907 - acc: 0.7640 - val_loss: 0.4240 - val_acc: 0.7640\n",
      "Epoch 36/60\n",
      "10000/10000 [==============================] - 5s 491us/step - loss: 0.5024 - acc: 0.7569 - val_loss: 0.3859 - val_acc: 0.7760\n",
      "Epoch 37/60\n",
      "10000/10000 [==============================] - 5s 491us/step - loss: 0.4909 - acc: 0.7634 - val_loss: 0.3820 - val_acc: 0.7790\n",
      "Epoch 38/60\n",
      "10000/10000 [==============================] - 5s 498us/step - loss: 0.4845 - acc: 0.7636 - val_loss: 0.3956 - val_acc: 0.7670\n",
      "Epoch 39/60\n",
      "10000/10000 [==============================] - 5s 491us/step - loss: 0.4802 - acc: 0.7657 - val_loss: 0.3921 - val_acc: 0.7800\n",
      "Epoch 40/60\n",
      "10000/10000 [==============================] - 5s 493us/step - loss: 0.4756 - acc: 0.7685 - val_loss: 0.3951 - val_acc: 0.7560\n",
      "Epoch 41/60\n",
      "10000/10000 [==============================] - 5s 492us/step - loss: 0.4687 - acc: 0.7673 - val_loss: 0.4151 - val_acc: 0.7640\n",
      "Epoch 42/60\n",
      "10000/10000 [==============================] - 5s 492us/step - loss: 0.4702 - acc: 0.7689 - val_loss: 0.3780 - val_acc: 0.7660\n",
      "Epoch 43/60\n",
      "10000/10000 [==============================] - 5s 492us/step - loss: 0.4657 - acc: 0.7705 - val_loss: 0.3748 - val_acc: 0.7830\n",
      "Epoch 44/60\n",
      "10000/10000 [==============================] - 5s 491us/step - loss: 0.4606 - acc: 0.7752 - val_loss: 0.3796 - val_acc: 0.7750\n",
      "Epoch 45/60\n",
      "10000/10000 [==============================] - 5s 496us/step - loss: 0.4584 - acc: 0.7760 - val_loss: 0.3698 - val_acc: 0.7810\n",
      "Epoch 46/60\n",
      "10000/10000 [==============================] - 5s 491us/step - loss: 0.4482 - acc: 0.7763 - val_loss: 0.3720 - val_acc: 0.7650\n",
      "Epoch 47/60\n",
      "10000/10000 [==============================] - 5s 492us/step - loss: 0.4500 - acc: 0.7721 - val_loss: 0.3651 - val_acc: 0.7830\n",
      "Epoch 48/60\n",
      "10000/10000 [==============================] - 5s 493us/step - loss: 0.4462 - acc: 0.7763 - val_loss: 0.3726 - val_acc: 0.7790\n",
      "Epoch 49/60\n",
      "10000/10000 [==============================] - 5s 503us/step - loss: 0.4403 - acc: 0.7773 - val_loss: 0.3659 - val_acc: 0.7840\n",
      "Epoch 50/60\n",
      "10000/10000 [==============================] - 5s 496us/step - loss: 0.4362 - acc: 0.7825 - val_loss: 0.3702 - val_acc: 0.7730\n",
      "Epoch 51/60\n",
      "10000/10000 [==============================] - 5s 494us/step - loss: 0.4410 - acc: 0.7743 - val_loss: 0.3599 - val_acc: 0.7770\n",
      "Epoch 52/60\n",
      "10000/10000 [==============================] - 5s 494us/step - loss: 0.4332 - acc: 0.7790 - val_loss: 0.3751 - val_acc: 0.7750\n",
      "Epoch 53/60\n",
      "10000/10000 [==============================] - 5s 493us/step - loss: 0.4286 - acc: 0.7794 - val_loss: 0.3586 - val_acc: 0.7620\n",
      "Epoch 54/60\n",
      "10000/10000 [==============================] - 5s 490us/step - loss: 0.4318 - acc: 0.7772 - val_loss: 0.3592 - val_acc: 0.7640\n",
      "Epoch 55/60\n",
      "10000/10000 [==============================] - 5s 495us/step - loss: 0.4242 - acc: 0.7797 - val_loss: 0.3550 - val_acc: 0.7730\n",
      "Epoch 56/60\n",
      "10000/10000 [==============================] - 5s 491us/step - loss: 0.4220 - acc: 0.7821 - val_loss: 0.3703 - val_acc: 0.7740\n",
      "Epoch 57/60\n",
      "10000/10000 [==============================] - 5s 492us/step - loss: 0.4202 - acc: 0.7860 - val_loss: 0.3696 - val_acc: 0.7870\n",
      "Epoch 58/60\n",
      "10000/10000 [==============================] - 5s 493us/step - loss: 0.4134 - acc: 0.7817 - val_loss: 0.3743 - val_acc: 0.7750\n",
      "Epoch 59/60\n"
     ]
    },
    {
     "name": "stdout",
     "output_type": "stream",
     "text": [
      "10000/10000 [==============================] - 5s 485us/step - loss: 0.4162 - acc: 0.7755 - val_loss: 0.3554 - val_acc: 0.7660\n",
      "Epoch 60/60\n",
      "10000/10000 [==============================] - 5s 486us/step - loss: 0.4109 - acc: 0.7864 - val_loss: 0.3553 - val_acc: 0.7760\n"
     ]
    }
   ],
   "source": [
    "# build the final model\n",
    "model = Model([input_sequence, question], answer)\n",
    "model.compile(optimizer='rmsprop', loss='categorical_crossentropy',\n",
    "              metrics=['accuracy'])\n",
    "\n",
    "# train\n",
    "history = model.fit([inputs_train, queries_train], answers_train,\n",
    "          batch_size=32,\n",
    "          epochs=60,\n",
    "          validation_data=([inputs_test, queries_test], answers_test))\n"
   ]
  },
  {
   "cell_type": "code",
   "execution_count": 22,
   "metadata": {},
   "outputs": [],
   "source": [
    "model_path1 = r'model4.h5'\n",
    "model.save(model_path1)\n",
    "#model save as pickle file\n",
    "# model load again\n",
    "# write story answer question in the format in a text file"
   ]
  },
  {
   "cell_type": "code",
   "execution_count": 23,
   "metadata": {},
   "outputs": [],
   "source": [
    "model.load_weights(model_path1)\n",
    "pred_results = model.predict(([inputs_test, queries_test]))"
   ]
  },
  {
   "cell_type": "code",
   "execution_count": 24,
   "metadata": {},
   "outputs": [
    {
     "name": "stdout",
     "output_type": "stream",
     "text": [
      "Story is: The bedroom is west of the hallway . The hallway is west of the bathroom .\n"
     ]
    }
   ],
   "source": [
    "# Display a selected test story\n",
    "\n",
    "n = np.random.randint(0,1000)\n",
    "story_list = test_stories[n][0]\n",
    "story =' '.join(word for word in story_list)\n",
    "print(\"Story is:\",story)"
   ]
  },
  {
   "cell_type": "code",
   "execution_count": 25,
   "metadata": {},
   "outputs": [
    {
     "name": "stdout",
     "output_type": "stream",
     "text": [
      "Question is:  What is west of the hallway ?\n",
      "Actual answer is:  bedroom\n"
     ]
    }
   ],
   "source": [
    "question_list = test_stories[n][1]\n",
    "ques =' '.join(word for word in question_list)\n",
    "print(\"Question is: \",ques)\n",
    "\n",
    "ans = test_stories[n][2]\n",
    "print(\"Actual answer is: \", ans)"
   ]
  },
  {
   "cell_type": "code",
   "execution_count": 26,
   "metadata": {},
   "outputs": [
    {
     "name": "stdout",
     "output_type": "stream",
     "text": [
      "Machine answer is:  bedroom\n",
      "I am  0.9942311 certain of it\n"
     ]
    }
   ],
   "source": [
    "#Generate prediction from model\n",
    "\n",
    "val_max = np.argmax(pred_results[n])\n",
    "\n",
    "for key, val in word_idx.items():\n",
    "    if val == val_max:\n",
    "        k = key\n",
    "\n",
    "print(\"Machine answer is: \", k)\n",
    "print(\"I am \", pred_results[n][val_max], \"certain of it\")\n"
   ]
  },
  {
   "cell_type": "code",
   "execution_count": 27,
   "metadata": {},
   "outputs": [],
   "source": [
    "## Read my own file\n",
    "\n",
    "# f = open(r\"C:\\Users\\priya\\Documents\\my_dl\\qachatbot\\my_test_q2.txt\", \"r\")\n",
    "# print(f.readlines())\n",
    "# data = parse_stories(f.readlines(), only_supporting=False)\n",
    "# print(data)\n",
    "# extra_stories = get_stories(f, only_supporting=False, max_length=None)\n",
    "#\n",
    "# print(extra_stories)"
   ]
  },
  {
   "cell_type": "code",
   "execution_count": null,
   "metadata": {},
   "outputs": [],
   "source": []
  }
 ],
 "metadata": {
  "kernelspec": {
   "display_name": "Python 3",
   "language": "python",
   "name": "python3"
  },
  "language_info": {
   "codemirror_mode": {
    "name": "ipython",
    "version": 3
   },
   "file_extension": ".py",
   "mimetype": "text/x-python",
   "name": "python",
   "nbconvert_exporter": "python",
   "pygments_lexer": "ipython3",
   "version": "3.6.5"
  }
 },
 "nbformat": 4,
 "nbformat_minor": 2
}
