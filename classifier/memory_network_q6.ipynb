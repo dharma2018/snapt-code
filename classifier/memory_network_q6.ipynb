{
 "cells": [
  {
   "cell_type": "code",
   "execution_count": 1,
   "metadata": {},
   "outputs": [
    {
     "data": {
      "text/plain": [
       "'Trains a memory network on the bAbI dataset.\\nReferences:\\n- Jason Weston, Antoine Bordes, Sumit Chopra, Tomas Mikolov, Alexander M. Rush,\\n  \"Towards AI-Complete Question Answering: A Set of Prerequisite Toy Tasks\",\\n  http://arxiv.org/abs/1502.05698\\n- Sainbayar Sukhbaatar, Arthur Szlam, Jason Weston, Rob Fergus,\\n  \"End-To-End Memory Networks\",\\n  http://arxiv.org/abs/1503.08895\\nReaches 98.6% accuracy on task \\'single_supporting_fact_10k\\' after 120 epochs.\\nTime per epoch: 3s on CPU (core i7).\\n'"
      ]
     },
     "execution_count": 1,
     "metadata": {},
     "output_type": "execute_result"
    }
   ],
   "source": [
    "'''Trains a memory network on the bAbI dataset.\n",
    "References:\n",
    "- Jason Weston, Antoine Bordes, Sumit Chopra, Tomas Mikolov, Alexander M. Rush,\n",
    "  \"Towards AI-Complete Question Answering: A Set of Prerequisite Toy Tasks\",\n",
    "  http://arxiv.org/abs/1502.05698\n",
    "- Sainbayar Sukhbaatar, Arthur Szlam, Jason Weston, Rob Fergus,\n",
    "  \"End-To-End Memory Networks\",\n",
    "  http://arxiv.org/abs/1503.08895\n",
    "Reaches 98.6% accuracy on task 'single_supporting_fact_10k' after 120 epochs.\n",
    "Time per epoch: 3s on CPU (core i7).\n",
    "'''"
   ]
  },
  {
   "cell_type": "code",
   "execution_count": 2,
   "metadata": {},
   "outputs": [
    {
     "name": "stderr",
     "output_type": "stream",
     "text": [
      "C:\\ProgramData\\Anaconda3\\lib\\site-packages\\h5py\\__init__.py:36: FutureWarning: Conversion of the second argument of issubdtype from `float` to `np.floating` is deprecated. In future, it will be treated as `np.float64 == np.dtype(float).type`.\n",
      "  from ._conv import register_converters as _register_converters\n",
      "Using TensorFlow backend.\n"
     ]
    }
   ],
   "source": [
    "from __future__ import print_function\n",
    "\n",
    "from keras.models import Sequential, Model\n",
    "from keras.layers.embeddings import Embedding\n",
    "from keras.layers import Input, Activation, Dense, Permute, Dropout\n",
    "from keras.layers import add, dot, concatenate\n",
    "from keras.layers import LSTM\n",
    "from keras.utils.data_utils import get_file\n",
    "from keras.preprocessing.sequence import pad_sequences\n",
    "from functools import reduce\n",
    "import tarfile\n",
    "import numpy as np\n",
    "import re"
   ]
  },
  {
   "cell_type": "code",
   "execution_count": 3,
   "metadata": {},
   "outputs": [],
   "source": [
    "def tokenize(sent):\n",
    "    '''Return the tokens of a sentence including punctuation.\n",
    "    >>> tokenize('Bob dropped the apple. Where is the apple?')\n",
    "    ['Bob', 'dropped', 'the', 'apple', '.', 'Where', 'is', 'the', 'apple', '?']\n",
    "    '''\n",
    "    return [x.strip() for x in re.split('(\\W+)?', sent) if x.strip()]\n"
   ]
  },
  {
   "cell_type": "code",
   "execution_count": 4,
   "metadata": {},
   "outputs": [],
   "source": [
    "def parse_stories(lines, only_supporting=False):\n",
    "    '''Parse stories provided in the bAbi tasks format\n",
    "    If only_supporting is true, only the sentences\n",
    "    that support the answer are kept.\n",
    "    '''\n",
    "    data = []\n",
    "    story = []\n",
    "    for line in lines:\n",
    "        line = line.decode('utf-8').strip()\n",
    "        nid, line = line.split(' ', 1)\n",
    "        nid = int(nid)\n",
    "        if nid == 1:\n",
    "            story = []\n",
    "        if '\\t' in line:\n",
    "            q, a, supporting = line.split('\\t')\n",
    "            q = tokenize(q)\n",
    "            substory = None\n",
    "            if only_supporting:\n",
    "                # Only select the related substory\n",
    "                supporting = map(int, supporting.split())\n",
    "                substory = [story[i - 1] for i in supporting]\n",
    "            else:\n",
    "                # Provide all the substories\n",
    "                substory = [x for x in story if x]\n",
    "            data.append((substory, q, a))\n",
    "            story.append('')\n",
    "        else:\n",
    "            sent = tokenize(line)\n",
    "            story.append(sent)\n",
    "    return data"
   ]
  },
  {
   "cell_type": "code",
   "execution_count": 5,
   "metadata": {},
   "outputs": [],
   "source": [
    "def get_stories(f, only_supporting=False, max_length=None):\n",
    "    '''Given a file name, read the file,\n",
    "    retrieve the stories,\n",
    "    and then convert the sentences into a single story.\n",
    "    If max_length is supplied,\n",
    "    any stories longer than max_length tokens will be discarded.\n",
    "    '''\n",
    "    data = parse_stories(f.readlines(), only_supporting=only_supporting)\n",
    "    flatten = lambda data: reduce(lambda x, y: x + y, data)\n",
    "    data = [(flatten(story), q, answer) for story, q, answer in data if not max_length or len(flatten(story)) < max_length]\n",
    "    return data"
   ]
  },
  {
   "cell_type": "code",
   "execution_count": 6,
   "metadata": {},
   "outputs": [],
   "source": [
    "def vectorize_stories(data, word_idx, story_maxlen, query_maxlen):\n",
    "    X = []\n",
    "    Xq = []\n",
    "    Y = []\n",
    "    for story, query, answer in data:\n",
    "        x = [word_idx[w] for w in story]\n",
    "        xq = [word_idx[w] for w in query]\n",
    "        # let's not forget that index 0 is reserved\n",
    "        y = np.zeros(len(word_idx) + 1)\n",
    "        y[word_idx[answer]] = 1\n",
    "        X.append(x)\n",
    "        Xq.append(xq)\n",
    "        Y.append(y)\n",
    "    return (pad_sequences(X, maxlen=story_maxlen),\n",
    "            pad_sequences(Xq, maxlen=query_maxlen), np.array(Y))"
   ]
  },
  {
   "cell_type": "code",
   "execution_count": 7,
   "metadata": {},
   "outputs": [],
   "source": [
    "try:\n",
    "    path = get_file('babi-tasks-v1-2.tar.gz', origin='https://s3.amazonaws.com/text-datasets/babi_tasks_1-20_v1-2.tar.gz')\n",
    "except:\n",
    "    print('Error downloading dataset, please download it manually:\\n'\n",
    "          '$ wget http://www.thespermwhale.com/jaseweston/babi/tasks_1-20_v1-2.tar.gz\\n'\n",
    "          '$ mv tasks_1-20_v1-2.tar.gz ~/.keras/datasets/babi-tasks-v1-2.tar.gz')\n",
    "    raise\n",
    "tar = tarfile.open(path)"
   ]
  },
  {
   "cell_type": "code",
   "execution_count": 8,
   "metadata": {},
   "outputs": [],
   "source": [
    "challenges = {\n",
    "    # QA1 with 10,000 samples\n",
    "    'single_supporting_fact_10k': 'tasks_1-20_v1-2/en-10k/qa1_single-supporting-fact_{}.txt',\n",
    "    # QA2 with 10,000 samples\n",
    "    'two_supporting_facts_10k': 'tasks_1-20_v1-2/en-10k/qa2_two-supporting-facts_{}.txt',\n",
    "\n",
    "    'two_arg_relations_10k': 'tasks_1-20_v1-2/en-10k/qa4_two-arg-relations_{}.txt',\n",
    "\n",
    "    'qa6_yes_no_ques_10k': 'tasks_1-20_v1-2/en-10k/qa6_yes-no-questions_{}.txt',\n",
    "}\n",
    "challenge_type = 'qa6_yes_no_ques_10k'\n",
    "challenge = challenges[challenge_type]"
   ]
  },
  {
   "cell_type": "code",
   "execution_count": 9,
   "metadata": {},
   "outputs": [
    {
     "name": "stdout",
     "output_type": "stream",
     "text": [
      "Extracting stories for the challenge: qa6_yes_no_ques_10k\n"
     ]
    },
    {
     "name": "stderr",
     "output_type": "stream",
     "text": [
      "C:\\ProgramData\\Anaconda3\\lib\\re.py:212: FutureWarning: split() requires a non-empty pattern match.\n",
      "  return _compile(pattern, flags).split(string, maxsplit)\n"
     ]
    }
   ],
   "source": [
    "print('Extracting stories for the challenge:', challenge_type)\n",
    "train_stories = get_stories(tar.extractfile(challenge.format('train')))\n",
    "test_stories = get_stories(tar.extractfile(challenge.format('test')))\n"
   ]
  },
  {
   "cell_type": "code",
   "execution_count": 10,
   "metadata": {},
   "outputs": [],
   "source": [
    "vocab = set()\n",
    "for story, q, answer in train_stories + test_stories:\n",
    "    vocab |= set(story + q + [answer])\n",
    "vocab = sorted(vocab)\n"
   ]
  },
  {
   "cell_type": "code",
   "execution_count": 11,
   "metadata": {},
   "outputs": [
    {
     "name": "stdout",
     "output_type": "stream",
     "text": [
      "-\n",
      "Vocab size: 38 unique words\n",
      "Story max length: 156 words\n",
      "Query max length: 6 words\n",
      "Number of training stories: 10000\n",
      "Number of test stories: 1000\n",
      "-\n",
      "Here's what a \"story\" tuple looks like (input, query, answer):\n",
      "(['Mary', 'moved', 'to', 'the', 'bathroom', '.', 'Sandra', 'journeyed', 'to', 'the', 'bedroom', '.', 'Mary', 'went', 'back', 'to', 'the', 'bedroom', '.', 'Daniel', 'went', 'back', 'to', 'the', 'hallway', '.'], ['Is', 'Daniel', 'in', 'the', 'bathroom', '?'], 'no')\n",
      "-\n",
      "Vectorizing the word sequences...\n"
     ]
    }
   ],
   "source": [
    "# Reserve 0 for masking via pad_sequences\n",
    "vocab_size = len(vocab) + 1\n",
    "story_maxlen = max(map(len, (x for x, _, _ in train_stories + test_stories)))\n",
    "query_maxlen = max(map(len, (x for _, x, _ in train_stories + test_stories)))\n",
    "\n",
    "print('-')\n",
    "print('Vocab size:', vocab_size, 'unique words')\n",
    "print('Story max length:', story_maxlen, 'words')\n",
    "print('Query max length:', query_maxlen, 'words')\n",
    "print('Number of training stories:', len(train_stories))\n",
    "print('Number of test stories:', len(test_stories))\n",
    "print('-')\n",
    "print('Here\\'s what a \"story\" tuple looks like (input, query, answer):')\n",
    "print(train_stories[1])\n",
    "print('-')\n",
    "print('Vectorizing the word sequences...')"
   ]
  },
  {
   "cell_type": "code",
   "execution_count": 12,
   "metadata": {},
   "outputs": [],
   "source": [
    "word_idx = dict((c, i + 1) for i, c in enumerate(vocab))\n",
    "inputs_train, queries_train, answers_train = vectorize_stories(train_stories,\n",
    "                                                               word_idx,\n",
    "                                                               story_maxlen,\n",
    "                                                               query_maxlen)\n",
    "inputs_test, queries_test, answers_test = vectorize_stories(test_stories,\n",
    "                                                            word_idx,\n",
    "                                                            story_maxlen,\n",
    "                                                            query_maxlen)"
   ]
  },
  {
   "cell_type": "code",
   "execution_count": 13,
   "metadata": {},
   "outputs": [
    {
     "name": "stdout",
     "output_type": "stream",
     "text": [
      "-\n",
      "inputs: integer tensor of shape (samples, max_length)\n",
      "inputs_train shape: (10000, 156)\n",
      "inputs_test shape: (1000, 156)\n",
      "-\n",
      "queries: integer tensor of shape (samples, max_length)\n",
      "queries_train shape: (10000, 6)\n",
      "queries_test shape: (1000, 6)\n",
      "-\n",
      "answers: binary (1 or 0) tensor of shape (samples, vocab_size)\n",
      "answers_train shape: (10000, 38)\n",
      "answers_test shape: (1000, 38)\n",
      "-\n",
      "Compiling...\n"
     ]
    }
   ],
   "source": [
    "print('-')\n",
    "print('inputs: integer tensor of shape (samples, max_length)')\n",
    "print('inputs_train shape:', inputs_train.shape)\n",
    "print('inputs_test shape:', inputs_test.shape)\n",
    "print('-')\n",
    "print('queries: integer tensor of shape (samples, max_length)')\n",
    "print('queries_train shape:', queries_train.shape)\n",
    "print('queries_test shape:', queries_test.shape)\n",
    "print('-')\n",
    "print('answers: binary (1 or 0) tensor of shape (samples, vocab_size)')\n",
    "print('answers_train shape:', answers_train.shape)\n",
    "print('answers_test shape:', answers_test.shape)\n",
    "print('-')\n",
    "print('Compiling...')"
   ]
  },
  {
   "cell_type": "code",
   "execution_count": 14,
   "metadata": {},
   "outputs": [],
   "source": [
    "# placeholders\n",
    "input_sequence = Input((story_maxlen,))\n",
    "question = Input((query_maxlen,))\n",
    "\n",
    "# encoders\n",
    "# embed the input sequence into a sequence of vectors\n",
    "input_encoder_m = Sequential()\n",
    "input_encoder_m.add(Embedding(input_dim=vocab_size,\n",
    "                              output_dim=64))\n",
    "input_encoder_m.add(Dropout(0.3))\n",
    "# output: (samples, story_maxlen, embedding_dim)"
   ]
  },
  {
   "cell_type": "code",
   "execution_count": 15,
   "metadata": {},
   "outputs": [],
   "source": [
    "# embed the input into a sequence of vectors of size query_maxlen\n",
    "input_encoder_c = Sequential()\n",
    "input_encoder_c.add(Embedding(input_dim=vocab_size,\n",
    "                              output_dim=query_maxlen))\n",
    "input_encoder_c.add(Dropout(0.3))\n",
    "# output: (samples, story_maxlen, query_maxlen)"
   ]
  },
  {
   "cell_type": "code",
   "execution_count": 16,
   "metadata": {},
   "outputs": [],
   "source": [
    "# embed the question into a sequence of vectors\n",
    "question_encoder = Sequential()\n",
    "question_encoder.add(Embedding(input_dim=vocab_size,\n",
    "                               output_dim=64,\n",
    "                               input_length=query_maxlen))\n",
    "question_encoder.add(Dropout(0.3))\n",
    "# output: (samples, query_maxlen, embedding_dim)"
   ]
  },
  {
   "cell_type": "code",
   "execution_count": 17,
   "metadata": {},
   "outputs": [],
   "source": [
    "# encode input sequence and questions (which are indices)\n",
    "# to sequences of dense vectors\n",
    "input_encoded_m = input_encoder_m(input_sequence)\n",
    "input_encoded_c = input_encoder_c(input_sequence)\n",
    "question_encoded = question_encoder(question)"
   ]
  },
  {
   "cell_type": "code",
   "execution_count": 18,
   "metadata": {},
   "outputs": [],
   "source": [
    "# compute a 'match' between the first input vector sequence\n",
    "# and the question vector sequence\n",
    "# shape: `(samples, story_maxlen, query_maxlen)`\n",
    "match = dot([input_encoded_m, question_encoded], axes=(2, 2))\n",
    "match = Activation('softmax')(match)"
   ]
  },
  {
   "cell_type": "code",
   "execution_count": 19,
   "metadata": {},
   "outputs": [],
   "source": [
    "# add the match matrix with the second input vector sequence\n",
    "response = add([match, input_encoded_c])  # (samples, story_maxlen, query_maxlen)\n",
    "response = Permute((2, 1))(response)  # (samples, query_maxlen, story_maxlen)"
   ]
  },
  {
   "cell_type": "code",
   "execution_count": 20,
   "metadata": {},
   "outputs": [],
   "source": [
    "# concatenate the match matrix with the question vector sequence\n",
    "answer = concatenate([response, question_encoded])"
   ]
  },
  {
   "cell_type": "code",
   "execution_count": 21,
   "metadata": {},
   "outputs": [],
   "source": [
    "# the original paper uses a matrix multiplication for this reduction step.\n",
    "# we choose to use a RNN instead.\n",
    "answer = LSTM(32)(answer)  # (samples, 32)"
   ]
  },
  {
   "cell_type": "code",
   "execution_count": 22,
   "metadata": {},
   "outputs": [],
   "source": [
    "# one regularization layer -- more would probably be needed.\n",
    "answer = Dropout(0.3)(answer)\n",
    "answer = Dense(vocab_size)(answer)  # (samples, vocab_size)\n",
    "# we output a probability distribution over the vocabulary\n",
    "answer = Activation('softmax')(answer)\n",
    "\n",
    "# build the final model\n",
    "model = Model([input_sequence, question], answer)\n",
    "model.compile(optimizer='rmsprop', loss='categorical_crossentropy',\n",
    "              metrics=['accuracy'])\n"
   ]
  },
  {
   "cell_type": "code",
   "execution_count": 23,
   "metadata": {},
   "outputs": [
    {
     "name": "stdout",
     "output_type": "stream",
     "text": [
      "Train on 10000 samples, validate on 1000 samples\n",
      "Epoch 1/60\n",
      "10000/10000 [==============================] - 8s 805us/step - loss: 0.8980 - acc: 0.4852 - val_loss: 0.6992 - val_acc: 0.4970\n",
      "Epoch 2/60\n",
      "10000/10000 [==============================] - 5s 465us/step - loss: 0.7027 - acc: 0.4946 - val_loss: 0.7019 - val_acc: 0.4970\n",
      "Epoch 3/60\n",
      "10000/10000 [==============================] - 5s 467us/step - loss: 0.6956 - acc: 0.5071 - val_loss: 0.6942 - val_acc: 0.4970\n",
      "Epoch 4/60\n",
      "10000/10000 [==============================] - 5s 474us/step - loss: 0.6954 - acc: 0.4972 - val_loss: 0.6933 - val_acc: 0.5030\n",
      "Epoch 5/60\n",
      "10000/10000 [==============================] - 5s 467us/step - loss: 0.6945 - acc: 0.4976 - val_loss: 0.6934 - val_acc: 0.4650\n",
      "Epoch 6/60\n",
      "10000/10000 [==============================] - 5s 465us/step - loss: 0.6941 - acc: 0.5003 - val_loss: 0.6942 - val_acc: 0.5030\n",
      "Epoch 7/60\n",
      "10000/10000 [==============================] - 5s 465us/step - loss: 0.6939 - acc: 0.4996 - val_loss: 0.6942 - val_acc: 0.4800\n",
      "Epoch 8/60\n",
      "10000/10000 [==============================] - 5s 465us/step - loss: 0.6935 - acc: 0.5050 - val_loss: 0.6946 - val_acc: 0.4810\n",
      "Epoch 9/60\n",
      "10000/10000 [==============================] - 5s 466us/step - loss: 0.6925 - acc: 0.5179 - val_loss: 0.6953 - val_acc: 0.4780\n",
      "Epoch 10/60\n",
      "10000/10000 [==============================] - 5s 468us/step - loss: 0.6910 - acc: 0.5224 - val_loss: 0.6961 - val_acc: 0.5010\n",
      "Epoch 11/60\n",
      "10000/10000 [==============================] - 5s 465us/step - loss: 0.6763 - acc: 0.5711 - val_loss: 0.6595 - val_acc: 0.6140\n",
      "Epoch 12/60\n",
      "10000/10000 [==============================] - 5s 464us/step - loss: 0.6421 - acc: 0.6370 - val_loss: 0.6301 - val_acc: 0.6380\n",
      "Epoch 13/60\n",
      "10000/10000 [==============================] - 5s 472us/step - loss: 0.6267 - acc: 0.6538 - val_loss: 0.6194 - val_acc: 0.6560\n",
      "Epoch 14/60\n",
      "10000/10000 [==============================] - 5s 466us/step - loss: 0.6145 - acc: 0.6637 - val_loss: 0.6219 - val_acc: 0.6480\n",
      "Epoch 15/60\n",
      "10000/10000 [==============================] - 5s 465us/step - loss: 0.6060 - acc: 0.6716 - val_loss: 0.5953 - val_acc: 0.6780\n",
      "Epoch 16/60\n",
      "10000/10000 [==============================] - 5s 465us/step - loss: 0.5859 - acc: 0.6892 - val_loss: 0.5784 - val_acc: 0.6970\n",
      "Epoch 17/60\n",
      "10000/10000 [==============================] - 5s 465us/step - loss: 0.5592 - acc: 0.7168 - val_loss: 0.5391 - val_acc: 0.7290\n",
      "Epoch 18/60\n",
      "10000/10000 [==============================] - 5s 466us/step - loss: 0.5199 - acc: 0.7457 - val_loss: 0.4793 - val_acc: 0.7830\n",
      "Epoch 19/60\n",
      "10000/10000 [==============================] - 5s 463us/step - loss: 0.4944 - acc: 0.7641 - val_loss: 0.5054 - val_acc: 0.7490\n",
      "Epoch 20/60\n",
      "10000/10000 [==============================] - 5s 470us/step - loss: 0.4773 - acc: 0.7793 - val_loss: 0.4470 - val_acc: 0.7980\n",
      "Epoch 21/60\n",
      "10000/10000 [==============================] - 5s 464us/step - loss: 0.4585 - acc: 0.7914 - val_loss: 0.4292 - val_acc: 0.8190\n",
      "Epoch 22/60\n",
      "10000/10000 [==============================] - 5s 466us/step - loss: 0.4466 - acc: 0.8005 - val_loss: 0.4853 - val_acc: 0.7870\n",
      "Epoch 23/60\n",
      "10000/10000 [==============================] - 5s 473us/step - loss: 0.4342 - acc: 0.8064 - val_loss: 0.4215 - val_acc: 0.8120\n",
      "Epoch 24/60\n",
      "10000/10000 [==============================] - 5s 467us/step - loss: 0.4218 - acc: 0.8124 - val_loss: 0.4225 - val_acc: 0.8190\n",
      "Epoch 25/60\n",
      "10000/10000 [==============================] - 5s 463us/step - loss: 0.4166 - acc: 0.8172 - val_loss: 0.4258 - val_acc: 0.8150\n",
      "Epoch 26/60\n",
      "10000/10000 [==============================] - 5s 466us/step - loss: 0.4055 - acc: 0.8269 - val_loss: 0.4047 - val_acc: 0.8260\n",
      "Epoch 27/60\n",
      "10000/10000 [==============================] - 5s 465us/step - loss: 0.3857 - acc: 0.8348 - val_loss: 0.4007 - val_acc: 0.8190\n",
      "Epoch 28/60\n",
      "10000/10000 [==============================] - 5s 466us/step - loss: 0.3745 - acc: 0.8424 - val_loss: 0.3981 - val_acc: 0.8220\n",
      "Epoch 29/60\n",
      "10000/10000 [==============================] - 5s 477us/step - loss: 0.3661 - acc: 0.8429 - val_loss: 0.3850 - val_acc: 0.8240\n",
      "Epoch 30/60\n",
      "10000/10000 [==============================] - 5s 471us/step - loss: 0.3582 - acc: 0.8444 - val_loss: 0.4024 - val_acc: 0.8300\n",
      "Epoch 31/60\n",
      "10000/10000 [==============================] - 5s 467us/step - loss: 0.3561 - acc: 0.8466 - val_loss: 0.3785 - val_acc: 0.8210\n",
      "Epoch 32/60\n",
      "10000/10000 [==============================] - 5s 469us/step - loss: 0.3448 - acc: 0.8555 - val_loss: 0.3719 - val_acc: 0.8280\n",
      "Epoch 33/60\n",
      "10000/10000 [==============================] - 5s 466us/step - loss: 0.3430 - acc: 0.8513 - val_loss: 0.3897 - val_acc: 0.8320\n",
      "Epoch 34/60\n",
      "10000/10000 [==============================] - 5s 465us/step - loss: 0.3315 - acc: 0.8571 - val_loss: 0.3845 - val_acc: 0.8160\n",
      "Epoch 35/60\n",
      "10000/10000 [==============================] - 5s 469us/step - loss: 0.3298 - acc: 0.8617 - val_loss: 0.3752 - val_acc: 0.8310\n",
      "Epoch 36/60\n",
      "10000/10000 [==============================] - 5s 466us/step - loss: 0.3299 - acc: 0.8559 - val_loss: 0.3753 - val_acc: 0.8430\n",
      "Epoch 37/60\n",
      "10000/10000 [==============================] - 5s 470us/step - loss: 0.3263 - acc: 0.8578 - val_loss: 0.3649 - val_acc: 0.8350\n",
      "Epoch 38/60\n",
      "10000/10000 [==============================] - 5s 465us/step - loss: 0.3225 - acc: 0.8610 - val_loss: 0.3634 - val_acc: 0.8380\n",
      "Epoch 39/60\n",
      "10000/10000 [==============================] - 5s 472us/step - loss: 0.3183 - acc: 0.8640 - val_loss: 0.3992 - val_acc: 0.8140\n",
      "Epoch 40/60\n",
      "10000/10000 [==============================] - 5s 466us/step - loss: 0.3156 - acc: 0.8609 - val_loss: 0.3743 - val_acc: 0.8300\n",
      "Epoch 41/60\n",
      "10000/10000 [==============================] - 5s 470us/step - loss: 0.3095 - acc: 0.8684 - val_loss: 0.3839 - val_acc: 0.8370\n",
      "Epoch 42/60\n",
      "10000/10000 [==============================] - 5s 465us/step - loss: 0.3091 - acc: 0.8637 - val_loss: 0.3755 - val_acc: 0.8330\n",
      "Epoch 43/60\n",
      "10000/10000 [==============================] - 5s 467us/step - loss: 0.3049 - acc: 0.8664 - val_loss: 0.3822 - val_acc: 0.8320\n",
      "Epoch 44/60\n",
      "10000/10000 [==============================] - 5s 463us/step - loss: 0.3042 - acc: 0.8665 - val_loss: 0.3822 - val_acc: 0.8240\n",
      "Epoch 45/60\n",
      "10000/10000 [==============================] - 5s 470us/step - loss: 0.3025 - acc: 0.8684 - val_loss: 0.3684 - val_acc: 0.8270\n",
      "Epoch 46/60\n",
      "10000/10000 [==============================] - 5s 502us/step - loss: 0.3010 - acc: 0.8701 - val_loss: 0.3959 - val_acc: 0.8140\n",
      "Epoch 47/60\n",
      "10000/10000 [==============================] - 5s 486us/step - loss: 0.2993 - acc: 0.8683 - val_loss: 0.3788 - val_acc: 0.8200\n",
      "Epoch 48/60\n",
      "10000/10000 [==============================] - 5s 481us/step - loss: 0.2985 - acc: 0.8686 - val_loss: 0.3854 - val_acc: 0.8250\n",
      "Epoch 49/60\n",
      "10000/10000 [==============================] - 5s 479us/step - loss: 0.2970 - acc: 0.8743 - val_loss: 0.3810 - val_acc: 0.8290\n",
      "Epoch 50/60\n",
      "10000/10000 [==============================] - 5s 474us/step - loss: 0.2901 - acc: 0.8775 - val_loss: 0.3989 - val_acc: 0.8280\n",
      "Epoch 51/60\n",
      "10000/10000 [==============================] - 5s 477us/step - loss: 0.2905 - acc: 0.8751 - val_loss: 0.3855 - val_acc: 0.8250\n",
      "Epoch 52/60\n",
      "10000/10000 [==============================] - 5s 486us/step - loss: 0.2896 - acc: 0.8735 - val_loss: 0.3889 - val_acc: 0.8250\n",
      "Epoch 53/60\n",
      "10000/10000 [==============================] - 5s 469us/step - loss: 0.2863 - acc: 0.8795 - val_loss: 0.3825 - val_acc: 0.8270\n",
      "Epoch 54/60\n",
      "10000/10000 [==============================] - 5s 469us/step - loss: 0.2845 - acc: 0.8785 - val_loss: 0.3980 - val_acc: 0.8300\n",
      "Epoch 55/60\n",
      "10000/10000 [==============================] - 5s 488us/step - loss: 0.2815 - acc: 0.8767 - val_loss: 0.3959 - val_acc: 0.8360\n",
      "Epoch 56/60\n",
      "10000/10000 [==============================] - 5s 469us/step - loss: 0.2861 - acc: 0.8702 - val_loss: 0.3866 - val_acc: 0.8290\n",
      "Epoch 57/60\n",
      "10000/10000 [==============================] - 5s 473us/step - loss: 0.2767 - acc: 0.8789 - val_loss: 0.3883 - val_acc: 0.8260\n",
      "Epoch 58/60\n",
      "10000/10000 [==============================] - 5s 475us/step - loss: 0.2766 - acc: 0.8824 - val_loss: 0.4081 - val_acc: 0.8350\n",
      "Epoch 59/60\n"
     ]
    },
    {
     "name": "stdout",
     "output_type": "stream",
     "text": [
      "10000/10000 [==============================] - 5s 465us/step - loss: 0.2751 - acc: 0.8822 - val_loss: 0.4142 - val_acc: 0.8190\n",
      "Epoch 60/60\n",
      "10000/10000 [==============================] - 5s 468us/step - loss: 0.2753 - acc: 0.8811 - val_loss: 0.3965 - val_acc: 0.8300\n"
     ]
    }
   ],
   "source": [
    "# train\n",
    "history = model.fit([inputs_train, queries_train], answers_train,\n",
    "          batch_size=32,\n",
    "          epochs=60,\n",
    "          validation_data=([inputs_test, queries_test], answers_test))"
   ]
  },
  {
   "cell_type": "code",
   "execution_count": 25,
   "metadata": {},
   "outputs": [
    {
     "name": "stdout",
     "output_type": "stream",
     "text": [
      "dict_keys(['val_loss', 'val_acc', 'loss', 'acc'])\n"
     ]
    },
    {
     "data": {
      "image/png": "[encoded data removed]",
      "text/plain": [
       "<Figure size 432x288 with 1 Axes>"
      ]
     },
     "metadata": {},
     "output_type": "display_data"
    }
   ],
   "source": [
    "%matplotlib inline  \n",
    "\n",
    "# list all data in history\n",
    "import matplotlib.pyplot as plt\n",
    "\n",
    "print(history.history.keys())\n",
    "# summarize history for accuracy\n",
    "plt.plot(history.history['acc'])\n",
    "plt.plot(history.history['val_acc'])\n",
    "plt.title('model accuracy')\n",
    "plt.ylabel('accuracy')\n",
    "plt.xlabel('epoch')\n",
    "plt.legend(['train', 'test'], loc='upper left')\n",
    "plt.show()\n"
   ]
  },
  {
   "cell_type": "code",
   "execution_count": 26,
   "metadata": {},
   "outputs": [],
   "source": [
    "model_path1 = r'model6.h5'\n",
    "model.save(model_path1)\n",
    "#model save as pickle file\n",
    "# model load again\n",
    "# write story answer question in the format in a text file\n",
    "\n",
    "model.load_weights(model_path1)\n",
    "pred_results = model.predict(([inputs_test, queries_test]))\n",
    "# Display a selected test story"
   ]
  },
  {
   "cell_type": "code",
   "execution_count": 27,
   "metadata": {},
   "outputs": [
    {
     "name": "stdout",
     "output_type": "stream",
     "text": [
      "Story is: John moved to the office . Mary went back to the hallway . Daniel went back to the bedroom . John grabbed the milk there . Sandra travelled to the kitchen . John discarded the milk . Mary moved to the office . John picked up the milk there . John travelled to the bedroom . Mary journeyed to the bedroom .\n",
      "Question is:  Is John in the kitchen ?\n",
      "Actual answer is:  no\n"
     ]
    }
   ],
   "source": [
    "n = np.random.randint(0,1000)\n",
    "story_list = test_stories[n][0]\n",
    "story =' '.join(word for word in story_list)\n",
    "print(\"Story is:\",story)\n",
    "\n",
    "question_list = test_stories[n][1]\n",
    "ques =' '.join(word for word in question_list)\n",
    "print(\"Question is: \",ques)\n",
    "\n",
    "ans = test_stories[n][2]\n",
    "print(\"Actual answer is: \", ans)\n"
   ]
  },
  {
   "cell_type": "code",
   "execution_count": 28,
   "metadata": {},
   "outputs": [
    {
     "name": "stdout",
     "output_type": "stream",
     "text": [
      "Machine answer is:  no\n",
      "I am  0.9973923 certain of it\n"
     ]
    }
   ],
   "source": [
    "#Generate prediction from model\n",
    "\n",
    "val_max = np.argmax(pred_results[n])\n",
    "\n",
    "for key, val in word_idx.items():\n",
    "    if val == val_max:\n",
    "        k = key\n",
    "\n",
    "print(\"Machine answer is: \", k)\n",
    "print(\"I am \", pred_results[n][val_max], \"certain of it\")\n",
    "\n",
    "## Read my own file\n",
    "\n",
    "# f = open(r\"C:\\Users\\priya\\Documents\\my_dl\\qachatbot\\my_test_q2.txt\", \"r\")\n",
    "# print(f.readlines())\n",
    "# data = parse_stories(f.readlines(), only_supporting=False)\n",
    "# print(data)\n",
    "# extra_stories = get_stories(f, only_supporting=False, max_length=None)\n",
    "#\n",
    "# print(extra_stories)"
   ]
  },
  {
   "cell_type": "code",
   "execution_count": null,
   "metadata": {},
   "outputs": [],
   "source": []
  }
 ],
 "metadata": {
  "kernelspec": {
   "display_name": "Python 3",
   "language": "python",
   "name": "python3"
  },
  "language_info": {
   "codemirror_mode": {
    "name": "ipython",
    "version": 3
   },
   "file_extension": ".py",
   "mimetype": "text/x-python",
   "name": "python",
   "nbconvert_exporter": "python",
   "pygments_lexer": "ipython3",
   "version": "3.6.5"
  }
 },
 "nbformat": 4,
 "nbformat_minor": 2
}
