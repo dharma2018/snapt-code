{
 "cells": [
  {
   "cell_type": "code",
   "execution_count": 1,
   "metadata": {
    "scrolled": true
   },
   "outputs": [
    {
     "data": {
      "text/plain": [
       "'Trains a memory network on the bAbI dataset.\\nReferences:\\n- Jason Weston, Antoine Bordes, Sumit Chopra, Tomas Mikolov, Alexander M. Rush,\\n  \"Towards AI-Complete Question Answering: A Set of Prerequisite Toy Tasks\",\\n  http://arxiv.org/abs/1502.05698\\n- Sainbayar Sukhbaatar, Arthur Szlam, Jason Weston, Rob Fergus,\\n  \"End-To-End Memory Networks\",\\n  http://arxiv.org/abs/1503.08895\\nReaches 98.6% accuracy on task \\'single_supporting_fact_10k\\' after 120 epochs.\\nTime per epoch: 3s on CPU (core i7).\\n'"
      ]
     },
     "execution_count": 1,
     "metadata": {},
     "output_type": "execute_result"
    }
   ],
   "source": [
    "'''Trains a memory network on the bAbI dataset.\n",
    "References:\n",
    "- Jason Weston, Antoine Bordes, Sumit Chopra, Tomas Mikolov, Alexander M. Rush,\n",
    "  \"Towards AI-Complete Question Answering: A Set of Prerequisite Toy Tasks\",\n",
    "  http://arxiv.org/abs/1502.05698\n",
    "- Sainbayar Sukhbaatar, Arthur Szlam, Jason Weston, Rob Fergus,\n",
    "  \"End-To-End Memory Networks\",\n",
    "  http://arxiv.org/abs/1503.08895\n",
    "Reaches 98.6% accuracy on task 'single_supporting_fact_10k' after 120 epochs.\n",
    "Time per epoch: 3s on CPU (core i7).\n",
    "'''"
   ]
  },
  {
   "cell_type": "code",
   "execution_count": 2,
   "metadata": {},
   "outputs": [
    {
     "name": "stderr",
     "output_type": "stream",
     "text": [
      "C:\\ProgramData\\Anaconda3\\lib\\site-packages\\h5py\\__init__.py:36: FutureWarning: Conversion of the second argument of issubdtype from `float` to `np.floating` is deprecated. In future, it will be treated as `np.float64 == np.dtype(float).type`.\n",
      "  from ._conv import register_converters as _register_converters\n",
      "Using TensorFlow backend.\n"
     ]
    }
   ],
   "source": [
    "from __future__ import print_function\n",
    "\n",
    "from keras.models import Sequential, Model\n",
    "from keras.layers.embeddings import Embedding\n",
    "from keras.layers import Input, Activation, Dense, Permute, Dropout\n",
    "from keras.layers import add, dot, concatenate\n",
    "from keras.layers import LSTM\n",
    "from keras.utils.data_utils import get_file\n",
    "from keras.preprocessing.sequence import pad_sequences\n",
    "from functools import reduce\n",
    "import tarfile\n",
    "import numpy as np\n",
    "import re"
   ]
  },
  {
   "cell_type": "code",
   "execution_count": 3,
   "metadata": {},
   "outputs": [],
   "source": [
    "def tokenize(sent):\n",
    "    '''Return the tokens of a sentence including punctuation.\n",
    "    >>> tokenize('Bob dropped the apple. Where is the apple?')\n",
    "    ['Bob', 'dropped', 'the', 'apple', '.', 'Where', 'is', 'the', 'apple', '?']\n",
    "    '''\n",
    "    return [x.strip() for x in re.split('(\\W+)?', sent) if x.strip()]"
   ]
  },
  {
   "cell_type": "code",
   "execution_count": 4,
   "metadata": {},
   "outputs": [],
   "source": [
    "def parse_stories(lines, only_supporting=False):\n",
    "    '''Parse stories provided in the bAbi tasks format\n",
    "    If only_supporting is true, only the sentences\n",
    "    that support the answer are kept.\n",
    "    '''\n",
    "    data = []\n",
    "    story = []\n",
    "    for line in lines:\n",
    "        line = line.decode('utf-8').strip()\n",
    "        nid, line = line.split(' ', 1)\n",
    "        nid = int(nid)\n",
    "        if nid == 1:\n",
    "            story = []\n",
    "        if '\\t' in line:\n",
    "            q, a, supporting = line.split('\\t')\n",
    "            q = tokenize(q)\n",
    "            substory = None\n",
    "            if only_supporting:\n",
    "                # Only select the related substory\n",
    "                supporting = map(int, supporting.split())\n",
    "                substory = [story[i - 1] for i in supporting]\n",
    "            else:\n",
    "                # Provide all the substories\n",
    "                substory = [x for x in story if x]\n",
    "            data.append((substory, q, a))\n",
    "            story.append('')\n",
    "        else:\n",
    "            sent = tokenize(line)\n",
    "            story.append(sent)\n",
    "    return data"
   ]
  },
  {
   "cell_type": "code",
   "execution_count": 5,
   "metadata": {},
   "outputs": [],
   "source": [
    "def get_stories(f, only_supporting=False, max_length=None):\n",
    "    '''Given a file name, read the file,\n",
    "    retrieve the stories,\n",
    "    and then convert the sentences into a single story.\n",
    "    If max_length is supplied,\n",
    "    any stories longer than max_length tokens will be discarded.\n",
    "    '''\n",
    "    data = parse_stories(f.readlines(), only_supporting=only_supporting)\n",
    "    flatten = lambda data: reduce(lambda x, y: x + y, data)\n",
    "    data = [(flatten(story), q, answer) for story, q, answer in data if not max_length or len(flatten(story)) < max_length]\n",
    "    return data"
   ]
  },
  {
   "cell_type": "code",
   "execution_count": 6,
   "metadata": {},
   "outputs": [],
   "source": [
    "def vectorize_stories(data, word_idx, story_maxlen, query_maxlen):\n",
    "    X = []\n",
    "    Xq = []\n",
    "    Y = []\n",
    "    for story, query, answer in data:\n",
    "        x = [word_idx[w] for w in story]\n",
    "        xq = [word_idx[w] for w in query]\n",
    "        # let's not forget that index 0 is reserved\n",
    "        y = np.zeros(len(word_idx) + 1)\n",
    "        y[word_idx[answer]] = 1\n",
    "        X.append(x)\n",
    "        Xq.append(xq)\n",
    "        Y.append(y)\n",
    "    return (pad_sequences(X, maxlen=story_maxlen),\n",
    "            pad_sequences(Xq, maxlen=query_maxlen), np.array(Y))"
   ]
  },
  {
   "cell_type": "code",
   "execution_count": 7,
   "metadata": {},
   "outputs": [
    {
     "name": "stdout",
     "output_type": "stream",
     "text": [
      "Downloading data from https://s3.amazonaws.com/text-datasets/babi_tasks_1-20_v1-2.tar.gz\n",
      "11747328/11745123 [==============================] - 6s 1us/step\n"
     ]
    }
   ],
   "source": [
    "try:\n",
    "    path = get_file('babi-tasks-v1-2.tar.gz', origin='https://s3.amazonaws.com/text-datasets/babi_tasks_1-20_v1-2.tar.gz')\n",
    "except:\n",
    "    print('Error downloading dataset, please download it manually:\\n'\n",
    "          '$ wget http://www.thespermwhale.com/jaseweston/babi/tasks_1-20_v1-2.tar.gz\\n'\n",
    "          '$ mv tasks_1-20_v1-2.tar.gz ~/.keras/datasets/babi-tasks-v1-2.tar.gz')\n",
    "    raise\n",
    "tar = tarfile.open(path)"
   ]
  },
  {
   "cell_type": "code",
   "execution_count": 9,
   "metadata": {},
   "outputs": [],
   "source": [
    "challenges = {\n",
    "    # QA1 with 10,000 samples\n",
    "    'single_supporting_fact_10k': 'tasks_1-20_v1-2/en-10k/qa1_single-supporting-fact_{}.txt',\n",
    "    # QA2 with 10,000 samples\n",
    "    'two_supporting_facts_10k': 'tasks_1-20_v1-2/en-10k/qa2_two-supporting-facts_{}.txt',\n",
    "}\n",
    "challenge_type = 'single_supporting_fact_10k'\n",
    "challenge = challenges[challenge_type]"
   ]
  },
  {
   "cell_type": "code",
   "execution_count": 10,
   "metadata": {},
   "outputs": [
    {
     "name": "stdout",
     "output_type": "stream",
     "text": [
      "Extracting stories for the challenge: single_supporting_fact_10k\n"
     ]
    },
    {
     "name": "stderr",
     "output_type": "stream",
     "text": [
      "C:\\ProgramData\\Anaconda3\\lib\\re.py:212: FutureWarning: split() requires a non-empty pattern match.\n",
      "  return _compile(pattern, flags).split(string, maxsplit)\n"
     ]
    }
   ],
   "source": [
    "print('Extracting stories for the challenge:', challenge_type)\n",
    "train_stories = get_stories(tar.extractfile(challenge.format('train')))\n",
    "test_stories = get_stories(tar.extractfile(challenge.format('test')))"
   ]
  },
  {
   "cell_type": "code",
   "execution_count": 11,
   "metadata": {},
   "outputs": [],
   "source": [
    "vocab = set()\n",
    "for story, q, answer in train_stories + test_stories:\n",
    "    vocab |= set(story + q + [answer])\n",
    "vocab = sorted(vocab)"
   ]
  },
  {
   "cell_type": "code",
   "execution_count": 12,
   "metadata": {},
   "outputs": [
    {
     "name": "stdout",
     "output_type": "stream",
     "text": [
      "-\n",
      "Vocab size: 22 unique words\n",
      "Story max length: 68 words\n",
      "Query max length: 4 words\n",
      "Number of training stories: 10000\n",
      "Number of test stories: 1000\n",
      "-\n",
      "Here's what a \"story\" tuple looks like (input, query, answer):\n",
      "(['Mary', 'moved', 'to', 'the', 'bathroom', '.', 'John', 'went', 'to', 'the', 'hallway', '.', 'Daniel', 'went', 'back', 'to', 'the', 'hallway', '.', 'Sandra', 'moved', 'to', 'the', 'garden', '.'], ['Where', 'is', 'Daniel', '?'], 'hallway')\n",
      "-\n",
      "Vectorizing the word sequences...\n"
     ]
    }
   ],
   "source": [
    "# Reserve 0 for masking via pad_sequences\n",
    "vocab_size = len(vocab) + 1\n",
    "story_maxlen = max(map(len, (x for x, _, _ in train_stories + test_stories)))\n",
    "query_maxlen = max(map(len, (x for _, x, _ in train_stories + test_stories)))\n",
    "\n",
    "print('-')\n",
    "print('Vocab size:', vocab_size, 'unique words')\n",
    "print('Story max length:', story_maxlen, 'words')\n",
    "print('Query max length:', query_maxlen, 'words')\n",
    "print('Number of training stories:', len(train_stories))\n",
    "print('Number of test stories:', len(test_stories))\n",
    "print('-')\n",
    "print('Here\\'s what a \"story\" tuple looks like (input, query, answer):')\n",
    "print(train_stories[1])\n",
    "print('-')\n",
    "print('Vectorizing the word sequences...')\n"
   ]
  },
  {
   "cell_type": "code",
   "execution_count": 13,
   "metadata": {},
   "outputs": [],
   "source": [
    "word_idx = dict((c, i + 1) for i, c in enumerate(vocab))\n",
    "inputs_train, queries_train, answers_train = vectorize_stories(train_stories,\n",
    "                                                               word_idx,\n",
    "                                                               story_maxlen,\n",
    "                                                               query_maxlen)\n",
    "inputs_test, queries_test, answers_test = vectorize_stories(test_stories,\n",
    "                                                            word_idx,\n",
    "                                                            story_maxlen,\n",
    "                                                            query_maxlen)\n"
   ]
  },
  {
   "cell_type": "code",
   "execution_count": 14,
   "metadata": {},
   "outputs": [
    {
     "name": "stdout",
     "output_type": "stream",
     "text": [
      "-\n",
      "inputs: integer tensor of shape (samples, max_length)\n",
      "inputs_train shape: (10000, 68)\n",
      "inputs_test shape: (1000, 68)\n",
      "-\n",
      "queries: integer tensor of shape (samples, max_length)\n",
      "queries_train shape: (10000, 4)\n",
      "queries_test shape: (1000, 4)\n",
      "-\n",
      "answers: binary (1 or 0) tensor of shape (samples, vocab_size)\n",
      "answers_train shape: (10000, 22)\n",
      "answers_test shape: (1000, 22)\n",
      "-\n",
      "Compiling...\n"
     ]
    }
   ],
   "source": [
    "print('-')\n",
    "print('inputs: integer tensor of shape (samples, max_length)')\n",
    "print('inputs_train shape:', inputs_train.shape)\n",
    "print('inputs_test shape:', inputs_test.shape)\n",
    "print('-')\n",
    "print('queries: integer tensor of shape (samples, max_length)')\n",
    "print('queries_train shape:', queries_train.shape)\n",
    "print('queries_test shape:', queries_test.shape)\n",
    "print('-')\n",
    "print('answers: binary (1 or 0) tensor of shape (samples, vocab_size)')\n",
    "print('answers_train shape:', answers_train.shape)\n",
    "print('answers_test shape:', answers_test.shape)\n",
    "print('-')\n",
    "print('Compiling...')\n"
   ]
  },
  {
   "cell_type": "code",
   "execution_count": 15,
   "metadata": {},
   "outputs": [],
   "source": [
    "# placeholders\n",
    "input_sequence = Input((story_maxlen,))\n",
    "question = Input((query_maxlen,))\n"
   ]
  },
  {
   "cell_type": "code",
   "execution_count": 16,
   "metadata": {},
   "outputs": [],
   "source": [
    "# encoders\n",
    "# embed the input sequence into a sequence of vectors\n",
    "input_encoder_m = Sequential()\n",
    "input_encoder_m.add(Embedding(input_dim=vocab_size,\n",
    "                              output_dim=64))\n",
    "input_encoder_m.add(Dropout(0.3))\n",
    "# output: (samples, story_maxlen, embedding_dim)"
   ]
  },
  {
   "cell_type": "code",
   "execution_count": 17,
   "metadata": {},
   "outputs": [],
   "source": [
    "# embed the input into a sequence of vectors of size query_maxlen\n",
    "input_encoder_c = Sequential()\n",
    "input_encoder_c.add(Embedding(input_dim=vocab_size,\n",
    "                              output_dim=query_maxlen))\n",
    "input_encoder_c.add(Dropout(0.3))\n",
    "# output: (samples, story_maxlen, query_maxlen)"
   ]
  },
  {
   "cell_type": "code",
   "execution_count": 18,
   "metadata": {},
   "outputs": [],
   "source": [
    "# embed the question into a sequence of vectors\n",
    "question_encoder = Sequential()\n",
    "question_encoder.add(Embedding(input_dim=vocab_size,\n",
    "                               output_dim=64,\n",
    "                               input_length=query_maxlen))\n",
    "question_encoder.add(Dropout(0.3))\n",
    "# output: (samples, query_maxlen, embedding_dim)\n"
   ]
  },
  {
   "cell_type": "code",
   "execution_count": 19,
   "metadata": {},
   "outputs": [],
   "source": [
    "# encode input sequence and questions (which are indices)\n",
    "# to sequences of dense vectors\n",
    "input_encoded_m = input_encoder_m(input_sequence)\n",
    "input_encoded_c = input_encoder_c(input_sequence)\n",
    "question_encoded = question_encoder(question)\n"
   ]
  },
  {
   "cell_type": "code",
   "execution_count": 20,
   "metadata": {},
   "outputs": [],
   "source": [
    "# compute a 'match' between the first input vector sequence\n",
    "# and the question vector sequence\n",
    "# shape: `(samples, story_maxlen, query_maxlen)`\n",
    "match = dot([input_encoded_m, question_encoded], axes=(2, 2))\n",
    "match = Activation('softmax')(match)"
   ]
  },
  {
   "cell_type": "code",
   "execution_count": 21,
   "metadata": {},
   "outputs": [],
   "source": [
    "# add the match matrix with the second input vector sequence\n",
    "response = add([match, input_encoded_c])  # (samples, story_maxlen, query_maxlen)\n",
    "response = Permute((2, 1))(response)  # (samples, query_maxlen, story_maxlen)"
   ]
  },
  {
   "cell_type": "code",
   "execution_count": 22,
   "metadata": {},
   "outputs": [],
   "source": [
    "# concatenate the match matrix with the question vector sequence\n",
    "answer = concatenate([response, question_encoded])\n",
    "\n",
    "# the original paper uses a matrix multiplication for this reduction step.\n",
    "# we choose to use a RNN instead.\n",
    "answer = LSTM(32)(answer)  # (samples, 32)\n"
   ]
  },
  {
   "cell_type": "code",
   "execution_count": 23,
   "metadata": {},
   "outputs": [],
   "source": [
    "# one regularization layer -- more would probably be needed.\n",
    "answer = Dropout(0.3)(answer)\n",
    "answer = Dense(vocab_size)(answer)  # (samples, vocab_size)\n",
    "# we output a probability distribution over the vocabulary\n",
    "answer = Activation('softmax')(answer)"
   ]
  },
  {
   "cell_type": "code",
   "execution_count": 24,
   "metadata": {},
   "outputs": [],
   "source": [
    "# build the final model\n",
    "model = Model([input_sequence, question], answer)\n",
    "model.compile(optimizer='rmsprop', loss='categorical_crossentropy',\n",
    "              metrics=['accuracy'])"
   ]
  },
  {
   "cell_type": "code",
   "execution_count": 25,
   "metadata": {},
   "outputs": [
    {
     "name": "stdout",
     "output_type": "stream",
     "text": [
      "Train on 10000 samples, validate on 1000 samples\n",
      "Epoch 1/120\n",
      "10000/10000 [==============================] - 7s 747us/step - loss: 1.9309 - acc: 0.1751 - val_loss: 1.7542 - val_acc: 0.2460\n",
      "Epoch 2/120\n",
      "10000/10000 [==============================] - 4s 356us/step - loss: 1.7061 - acc: 0.2677 - val_loss: 1.6773 - val_acc: 0.2780\n",
      "Epoch 3/120\n",
      "10000/10000 [==============================] - 4s 365us/step - loss: 1.6465 - acc: 0.3023 - val_loss: 1.6071 - val_acc: 0.3270\n",
      "Epoch 4/120\n",
      "10000/10000 [==============================] - 4s 359us/step - loss: 1.5754 - acc: 0.3469 - val_loss: 1.5425 - val_acc: 0.3420\n",
      "Epoch 5/120\n",
      "10000/10000 [==============================] - 4s 363us/step - loss: 1.5251 - acc: 0.3758 - val_loss: 1.5072 - val_acc: 0.3560\n",
      "Epoch 6/120\n",
      "10000/10000 [==============================] - 4s 358us/step - loss: 1.5037 - acc: 0.3997 - val_loss: 1.5036 - val_acc: 0.4000\n",
      "Epoch 7/120\n",
      "10000/10000 [==============================] - 4s 362us/step - loss: 1.4765 - acc: 0.4214 - val_loss: 1.4772 - val_acc: 0.4120\n",
      "Epoch 8/120\n",
      "10000/10000 [==============================] - 4s 367us/step - loss: 1.4411 - acc: 0.4481 - val_loss: 1.3760 - val_acc: 0.4870\n",
      "Epoch 9/120\n",
      "10000/10000 [==============================] - 4s 367us/step - loss: 1.3939 - acc: 0.4683 - val_loss: 1.3462 - val_acc: 0.4950\n",
      "Epoch 10/120\n",
      "10000/10000 [==============================] - 4s 357us/step - loss: 1.3794 - acc: 0.4765 - val_loss: 1.3319 - val_acc: 0.5040\n",
      "Epoch 11/120\n",
      "10000/10000 [==============================] - 4s 355us/step - loss: 1.3520 - acc: 0.4885 - val_loss: 1.3277 - val_acc: 0.5100\n",
      "Epoch 12/120\n",
      "10000/10000 [==============================] - 4s 355us/step - loss: 1.3434 - acc: 0.4955 - val_loss: 1.2971 - val_acc: 0.5210\n",
      "Epoch 13/120\n",
      "10000/10000 [==============================] - 4s 356us/step - loss: 1.3175 - acc: 0.4984 - val_loss: 1.3439 - val_acc: 0.4710\n",
      "Epoch 14/120\n",
      "10000/10000 [==============================] - 4s 361us/step - loss: 1.3104 - acc: 0.5002 - val_loss: 1.2710 - val_acc: 0.5150\n",
      "Epoch 15/120\n",
      "10000/10000 [==============================] - 4s 366us/step - loss: 1.3013 - acc: 0.5001 - val_loss: 1.2743 - val_acc: 0.5080\n",
      "Epoch 16/120\n",
      "10000/10000 [==============================] - 4s 364us/step - loss: 1.2881 - acc: 0.5077 - val_loss: 1.2545 - val_acc: 0.5290\n",
      "Epoch 17/120\n",
      "10000/10000 [==============================] - 4s 357us/step - loss: 1.2724 - acc: 0.5101 - val_loss: 1.2462 - val_acc: 0.5260\n",
      "Epoch 18/120\n",
      "10000/10000 [==============================] - 4s 356us/step - loss: 1.2654 - acc: 0.5090 - val_loss: 1.2674 - val_acc: 0.5210\n",
      "Epoch 19/120\n",
      "10000/10000 [==============================] - 4s 356us/step - loss: 1.2562 - acc: 0.5176 - val_loss: 1.2406 - val_acc: 0.5160\n",
      "Epoch 20/120\n",
      "10000/10000 [==============================] - 4s 366us/step - loss: 1.2320 - acc: 0.5206 - val_loss: 1.2248 - val_acc: 0.5200\n",
      "Epoch 21/120\n",
      "10000/10000 [==============================] - 4s 361us/step - loss: 1.2229 - acc: 0.5185 - val_loss: 1.2057 - val_acc: 0.5260\n",
      "Epoch 22/120\n",
      "10000/10000 [==============================] - 4s 370us/step - loss: 1.2132 - acc: 0.5153 - val_loss: 1.2039 - val_acc: 0.5110\n",
      "Epoch 23/120\n",
      "10000/10000 [==============================] - 4s 356us/step - loss: 1.2011 - acc: 0.5224 - val_loss: 1.1844 - val_acc: 0.5250\n",
      "Epoch 24/120\n",
      "10000/10000 [==============================] - 4s 358us/step - loss: 1.1829 - acc: 0.5287 - val_loss: 1.1785 - val_acc: 0.5280\n",
      "Epoch 25/120\n",
      "10000/10000 [==============================] - 4s 361us/step - loss: 1.1775 - acc: 0.5257 - val_loss: 1.1737 - val_acc: 0.5290\n",
      "Epoch 26/120\n",
      "10000/10000 [==============================] - 4s 369us/step - loss: 1.1698 - acc: 0.5240 - val_loss: 1.1662 - val_acc: 0.5300\n",
      "Epoch 27/120\n",
      "10000/10000 [==============================] - 4s 378us/step - loss: 1.1569 - acc: 0.5305 - val_loss: 1.1724 - val_acc: 0.5170\n",
      "Epoch 28/120\n",
      "10000/10000 [==============================] - 4s 378us/step - loss: 1.1587 - acc: 0.5260 - val_loss: 1.1763 - val_acc: 0.5180\n",
      "Epoch 29/120\n",
      "10000/10000 [==============================] - 4s 396us/step - loss: 1.1564 - acc: 0.5293 - val_loss: 1.1564 - val_acc: 0.5270\n",
      "Epoch 30/120\n",
      "10000/10000 [==============================] - 4s 372us/step - loss: 1.1442 - acc: 0.5390 - val_loss: 1.1561 - val_acc: 0.5390\n",
      "Epoch 31/120\n",
      "10000/10000 [==============================] - 4s 384us/step - loss: 1.1287 - acc: 0.5396 - val_loss: 1.1433 - val_acc: 0.5320\n",
      "Epoch 32/120\n",
      "10000/10000 [==============================] - 4s 376us/step - loss: 1.1175 - acc: 0.5560 - val_loss: 1.1118 - val_acc: 0.5640\n",
      "Epoch 33/120\n",
      "10000/10000 [==============================] - 4s 375us/step - loss: 1.0818 - acc: 0.5769 - val_loss: 1.0501 - val_acc: 0.6180\n",
      "Epoch 34/120\n",
      "10000/10000 [==============================] - 4s 385us/step - loss: 0.9444 - acc: 0.6599 - val_loss: 0.8265 - val_acc: 0.7110\n",
      "Epoch 35/120\n",
      "10000/10000 [==============================] - 4s 368us/step - loss: 0.8137 - acc: 0.7185 - val_loss: 0.7535 - val_acc: 0.7320\n",
      "Epoch 36/120\n",
      "10000/10000 [==============================] - 4s 366us/step - loss: 0.7366 - acc: 0.7443 - val_loss: 0.6911 - val_acc: 0.7530\n",
      "Epoch 37/120\n",
      "10000/10000 [==============================] - 4s 361us/step - loss: 0.6815 - acc: 0.7649 - val_loss: 0.6281 - val_acc: 0.7730\n",
      "Epoch 38/120\n",
      "10000/10000 [==============================] - 4s 359us/step - loss: 0.6237 - acc: 0.7827 - val_loss: 0.5943 - val_acc: 0.7870\n",
      "Epoch 39/120\n",
      "10000/10000 [==============================] - 4s 364us/step - loss: 0.5790 - acc: 0.7914 - val_loss: 0.5507 - val_acc: 0.7850\n",
      "Epoch 40/120\n",
      "10000/10000 [==============================] - 4s 358us/step - loss: 0.5264 - acc: 0.8130 - val_loss: 0.4888 - val_acc: 0.8190\n",
      "Epoch 41/120\n",
      "10000/10000 [==============================] - 4s 362us/step - loss: 0.4853 - acc: 0.8280 - val_loss: 0.4480 - val_acc: 0.8280\n",
      "Epoch 42/120\n",
      "10000/10000 [==============================] - 4s 361us/step - loss: 0.4526 - acc: 0.8329 - val_loss: 0.4122 - val_acc: 0.8370\n",
      "Epoch 43/120\n",
      "10000/10000 [==============================] - 4s 359us/step - loss: 0.4184 - acc: 0.8467 - val_loss: 0.4103 - val_acc: 0.8410\n",
      "Epoch 44/120\n",
      "10000/10000 [==============================] - 4s 361us/step - loss: 0.3980 - acc: 0.8571 - val_loss: 0.4130 - val_acc: 0.8520\n",
      "Epoch 45/120\n",
      "10000/10000 [==============================] - 4s 364us/step - loss: 0.3850 - acc: 0.8564 - val_loss: 0.4310 - val_acc: 0.8370\n",
      "Epoch 46/120\n",
      "10000/10000 [==============================] - 4s 360us/step - loss: 0.3685 - acc: 0.8652 - val_loss: 0.4015 - val_acc: 0.8400\n",
      "Epoch 47/120\n",
      "10000/10000 [==============================] - 4s 360us/step - loss: 0.3519 - acc: 0.8724 - val_loss: 0.3588 - val_acc: 0.8650\n",
      "Epoch 48/120\n",
      "10000/10000 [==============================] - 4s 366us/step - loss: 0.3392 - acc: 0.8758 - val_loss: 0.3779 - val_acc: 0.8610\n",
      "Epoch 49/120\n",
      "10000/10000 [==============================] - 4s 363us/step - loss: 0.3393 - acc: 0.8720 - val_loss: 0.3704 - val_acc: 0.8680\n",
      "Epoch 50/120\n",
      "10000/10000 [==============================] - 4s 359us/step - loss: 0.3252 - acc: 0.8815 - val_loss: 0.3368 - val_acc: 0.8630\n",
      "Epoch 51/120\n",
      "10000/10000 [==============================] - 4s 366us/step - loss: 0.3145 - acc: 0.8813 - val_loss: 0.3731 - val_acc: 0.8570\n",
      "Epoch 52/120\n",
      "10000/10000 [==============================] - 4s 362us/step - loss: 0.3073 - acc: 0.8887 - val_loss: 0.3448 - val_acc: 0.8660\n",
      "Epoch 53/120\n",
      "10000/10000 [==============================] - 4s 374us/step - loss: 0.2932 - acc: 0.8876 - val_loss: 0.3619 - val_acc: 0.8700\n",
      "Epoch 54/120\n",
      "10000/10000 [==============================] - 4s 360us/step - loss: 0.2975 - acc: 0.8891 - val_loss: 0.3229 - val_acc: 0.8700\n",
      "Epoch 55/120\n",
      "10000/10000 [==============================] - 4s 361us/step - loss: 0.2853 - acc: 0.8945 - val_loss: 0.3260 - val_acc: 0.8770\n",
      "Epoch 56/120\n",
      "10000/10000 [==============================] - 4s 360us/step - loss: 0.2778 - acc: 0.9001 - val_loss: 0.3212 - val_acc: 0.8730\n",
      "Epoch 57/120\n",
      "10000/10000 [==============================] - 4s 361us/step - loss: 0.2733 - acc: 0.9031 - val_loss: 0.3122 - val_acc: 0.8810\n",
      "Epoch 58/120\n",
      "10000/10000 [==============================] - 4s 363us/step - loss: 0.2577 - acc: 0.9065 - val_loss: 0.2991 - val_acc: 0.8840\n",
      "Epoch 59/120\n",
      "10000/10000 [==============================] - 4s 356us/step - loss: 0.2482 - acc: 0.9092 - val_loss: 0.3137 - val_acc: 0.8810\n",
      "Epoch 60/120\n",
      "10000/10000 [==============================] - 4s 356us/step - loss: 0.2514 - acc: 0.9096 - val_loss: 0.3228 - val_acc: 0.8890\n",
      "Epoch 61/120\n",
      "10000/10000 [==============================] - 4s 355us/step - loss: 0.2421 - acc: 0.9151 - val_loss: 0.3007 - val_acc: 0.8890\n",
      "Epoch 62/120\n",
      "10000/10000 [==============================] - 4s 358us/step - loss: 0.2289 - acc: 0.9163 - val_loss: 0.2843 - val_acc: 0.9010\n",
      "Epoch 63/120\n",
      "10000/10000 [==============================] - 4s 356us/step - loss: 0.2189 - acc: 0.9218 - val_loss: 0.2785 - val_acc: 0.9020\n",
      "Epoch 64/120\n",
      "10000/10000 [==============================] - 4s 357us/step - loss: 0.2172 - acc: 0.9213 - val_loss: 0.3530 - val_acc: 0.8810\n",
      "Epoch 65/120\n",
      "10000/10000 [==============================] - 4s 355us/step - loss: 0.2109 - acc: 0.9222 - val_loss: 0.2563 - val_acc: 0.9040\n",
      "Epoch 66/120\n",
      "10000/10000 [==============================] - 4s 357us/step - loss: 0.2000 - acc: 0.9290 - val_loss: 0.2752 - val_acc: 0.8980\n",
      "Epoch 67/120\n",
      "10000/10000 [==============================] - 4s 358us/step - loss: 0.1943 - acc: 0.9307 - val_loss: 0.2304 - val_acc: 0.9200\n",
      "Epoch 68/120\n",
      "10000/10000 [==============================] - 4s 367us/step - loss: 0.1817 - acc: 0.9359 - val_loss: 0.2423 - val_acc: 0.9240\n",
      "Epoch 69/120\n",
      "10000/10000 [==============================] - 4s 356us/step - loss: 0.1791 - acc: 0.9362 - val_loss: 0.2086 - val_acc: 0.9190\n",
      "Epoch 70/120\n",
      "10000/10000 [==============================] - 4s 360us/step - loss: 0.1696 - acc: 0.9395 - val_loss: 0.2183 - val_acc: 0.9260\n",
      "Epoch 71/120\n",
      "10000/10000 [==============================] - 4s 357us/step - loss: 0.1744 - acc: 0.9403 - val_loss: 0.2099 - val_acc: 0.9290\n",
      "Epoch 72/120\n",
      "10000/10000 [==============================] - 4s 358us/step - loss: 0.1577 - acc: 0.9463 - val_loss: 0.2052 - val_acc: 0.9280\n",
      "Epoch 73/120\n",
      "10000/10000 [==============================] - 4s 356us/step - loss: 0.1542 - acc: 0.9476 - val_loss: 0.1966 - val_acc: 0.9360\n",
      "Epoch 74/120\n",
      "10000/10000 [==============================] - 4s 361us/step - loss: 0.1527 - acc: 0.9442 - val_loss: 0.1795 - val_acc: 0.9380\n",
      "Epoch 75/120\n",
      "10000/10000 [==============================] - 4s 358us/step - loss: 0.1417 - acc: 0.9521 - val_loss: 0.2084 - val_acc: 0.9380\n",
      "Epoch 76/120\n",
      "10000/10000 [==============================] - 4s 359us/step - loss: 0.1377 - acc: 0.9532 - val_loss: 0.1940 - val_acc: 0.9370\n",
      "Epoch 77/120\n",
      "10000/10000 [==============================] - 4s 357us/step - loss: 0.1325 - acc: 0.9549 - val_loss: 0.1829 - val_acc: 0.9400\n",
      "Epoch 78/120\n",
      "10000/10000 [==============================] - 4s 354us/step - loss: 0.1313 - acc: 0.9529 - val_loss: 0.2020 - val_acc: 0.9390\n",
      "Epoch 79/120\n",
      "10000/10000 [==============================] - 4s 355us/step - loss: 0.1288 - acc: 0.9576 - val_loss: 0.1757 - val_acc: 0.9440\n",
      "Epoch 80/120\n",
      "10000/10000 [==============================] - 4s 355us/step - loss: 0.1316 - acc: 0.9554 - val_loss: 0.1770 - val_acc: 0.9440\n",
      "Epoch 81/120\n",
      "10000/10000 [==============================] - 4s 355us/step - loss: 0.1276 - acc: 0.9548 - val_loss: 0.1853 - val_acc: 0.9410\n",
      "Epoch 82/120\n",
      "10000/10000 [==============================] - 4s 364us/step - loss: 0.1229 - acc: 0.9578 - val_loss: 0.1713 - val_acc: 0.9460\n",
      "Epoch 83/120\n",
      "10000/10000 [==============================] - 4s 357us/step - loss: 0.1245 - acc: 0.9553 - val_loss: 0.2032 - val_acc: 0.9420\n",
      "Epoch 84/120\n",
      "10000/10000 [==============================] - 4s 358us/step - loss: 0.1142 - acc: 0.9601 - val_loss: 0.1792 - val_acc: 0.9440\n",
      "Epoch 85/120\n",
      "10000/10000 [==============================] - 4s 361us/step - loss: 0.1086 - acc: 0.9631 - val_loss: 0.1819 - val_acc: 0.9450\n",
      "Epoch 86/120\n",
      "10000/10000 [==============================] - 4s 361us/step - loss: 0.1081 - acc: 0.9642 - val_loss: 0.1651 - val_acc: 0.9480\n",
      "Epoch 87/120\n",
      "10000/10000 [==============================] - 4s 357us/step - loss: 0.1073 - acc: 0.9626 - val_loss: 0.1665 - val_acc: 0.9470\n",
      "Epoch 88/120\n",
      "10000/10000 [==============================] - 4s 361us/step - loss: 0.1061 - acc: 0.9619 - val_loss: 0.1718 - val_acc: 0.9450\n",
      "Epoch 89/120\n",
      "10000/10000 [==============================] - 4s 359us/step - loss: 0.1015 - acc: 0.9668 - val_loss: 0.1673 - val_acc: 0.9500\n",
      "Epoch 90/120\n",
      "10000/10000 [==============================] - 4s 355us/step - loss: 0.0984 - acc: 0.9675 - val_loss: 0.1870 - val_acc: 0.9390\n",
      "Epoch 91/120\n",
      "10000/10000 [==============================] - 4s 357us/step - loss: 0.0933 - acc: 0.9668 - val_loss: 0.1636 - val_acc: 0.9500\n",
      "Epoch 92/120\n",
      "10000/10000 [==============================] - 4s 358us/step - loss: 0.0960 - acc: 0.9677 - val_loss: 0.1805 - val_acc: 0.9430\n",
      "Epoch 93/120\n",
      "10000/10000 [==============================] - 4s 355us/step - loss: 0.0890 - acc: 0.9702 - val_loss: 0.1767 - val_acc: 0.9480\n",
      "Epoch 94/120\n",
      "10000/10000 [==============================] - 4s 357us/step - loss: 0.0876 - acc: 0.9696 - val_loss: 0.1706 - val_acc: 0.9470\n",
      "Epoch 95/120\n",
      "10000/10000 [==============================] - 4s 356us/step - loss: 0.0932 - acc: 0.9681 - val_loss: 0.1821 - val_acc: 0.9390\n",
      "Epoch 96/120\n",
      "10000/10000 [==============================] - 4s 356us/step - loss: 0.0931 - acc: 0.9694 - val_loss: 0.1637 - val_acc: 0.9520\n",
      "Epoch 97/120\n",
      "10000/10000 [==============================] - 4s 355us/step - loss: 0.0839 - acc: 0.9703 - val_loss: 0.1585 - val_acc: 0.9500\n",
      "Epoch 98/120\n",
      "10000/10000 [==============================] - 4s 356us/step - loss: 0.0852 - acc: 0.9722 - val_loss: 0.1757 - val_acc: 0.9490\n",
      "Epoch 99/120\n",
      "10000/10000 [==============================] - 4s 356us/step - loss: 0.0844 - acc: 0.9703 - val_loss: 0.1765 - val_acc: 0.9460\n",
      "Epoch 100/120\n",
      "10000/10000 [==============================] - 4s 357us/step - loss: 0.0784 - acc: 0.9736 - val_loss: 0.1627 - val_acc: 0.9490\n",
      "Epoch 101/120\n",
      "10000/10000 [==============================] - 4s 358us/step - loss: 0.0780 - acc: 0.9751 - val_loss: 0.1978 - val_acc: 0.9480\n",
      "Epoch 102/120\n",
      "10000/10000 [==============================] - 4s 363us/step - loss: 0.0758 - acc: 0.9759 - val_loss: 0.1480 - val_acc: 0.9570\n",
      "Epoch 103/120\n",
      "10000/10000 [==============================] - 4s 361us/step - loss: 0.0786 - acc: 0.9735 - val_loss: 0.1876 - val_acc: 0.9470\n",
      "Epoch 104/120\n",
      "10000/10000 [==============================] - 4s 357us/step - loss: 0.0759 - acc: 0.9752 - val_loss: 0.1671 - val_acc: 0.9560\n",
      "Epoch 105/120\n",
      "10000/10000 [==============================] - 4s 357us/step - loss: 0.0716 - acc: 0.9761 - val_loss: 0.1593 - val_acc: 0.9540\n",
      "Epoch 106/120\n",
      "10000/10000 [==============================] - 4s 361us/step - loss: 0.0773 - acc: 0.9744 - val_loss: 0.1531 - val_acc: 0.9530\n",
      "Epoch 107/120\n",
      "10000/10000 [==============================] - 4s 359us/step - loss: 0.0684 - acc: 0.9773 - val_loss: 0.1592 - val_acc: 0.9540\n",
      "Epoch 108/120\n",
      "10000/10000 [==============================] - 4s 362us/step - loss: 0.0683 - acc: 0.9771 - val_loss: 0.1581 - val_acc: 0.9550\n",
      "Epoch 109/120\n",
      "10000/10000 [==============================] - 4s 361us/step - loss: 0.0660 - acc: 0.9787 - val_loss: 0.1704 - val_acc: 0.9540\n",
      "Epoch 110/120\n",
      "10000/10000 [==============================] - 4s 358us/step - loss: 0.0618 - acc: 0.9793 - val_loss: 0.1467 - val_acc: 0.9540\n",
      "Epoch 111/120\n",
      "10000/10000 [==============================] - 4s 363us/step - loss: 0.0672 - acc: 0.9790 - val_loss: 0.1700 - val_acc: 0.9490\n",
      "Epoch 112/120\n",
      "10000/10000 [==============================] - 4s 359us/step - loss: 0.0672 - acc: 0.9770 - val_loss: 0.1555 - val_acc: 0.9600\n",
      "Epoch 113/120\n",
      "10000/10000 [==============================] - 4s 361us/step - loss: 0.0619 - acc: 0.9778 - val_loss: 0.1468 - val_acc: 0.9580\n",
      "Epoch 114/120\n",
      "10000/10000 [==============================] - 4s 360us/step - loss: 0.0600 - acc: 0.9795 - val_loss: 0.1393 - val_acc: 0.9620\n",
      "Epoch 115/120\n",
      "10000/10000 [==============================] - 4s 358us/step - loss: 0.0612 - acc: 0.9815 - val_loss: 0.1480 - val_acc: 0.9570\n",
      "Epoch 116/120\n",
      "10000/10000 [==============================] - 4s 360us/step - loss: 0.0585 - acc: 0.9802 - val_loss: 0.1583 - val_acc: 0.9460\n",
      "Epoch 117/120\n"
     ]
    },
    {
     "name": "stdout",
     "output_type": "stream",
     "text": [
      "10000/10000 [==============================] - 4s 355us/step - loss: 0.0636 - acc: 0.9788 - val_loss: 0.1494 - val_acc: 0.9540\n",
      "Epoch 118/120\n",
      "10000/10000 [==============================] - 4s 362us/step - loss: 0.0617 - acc: 0.9785 - val_loss: 0.1442 - val_acc: 0.9580\n",
      "Epoch 119/120\n",
      "10000/10000 [==============================] - 4s 354us/step - loss: 0.0574 - acc: 0.9817 - val_loss: 0.1625 - val_acc: 0.9600\n",
      "Epoch 120/120\n",
      "10000/10000 [==============================] - 4s 356us/step - loss: 0.0533 - acc: 0.9837 - val_loss: 0.1577 - val_acc: 0.9560\n"
     ]
    },
    {
     "data": {
      "text/plain": [
       "<keras.callbacks.History at 0x171732c9a90>"
      ]
     },
     "execution_count": 25,
     "metadata": {},
     "output_type": "execute_result"
    }
   ],
   "source": [
    "# train\n",
    "model.fit([inputs_train, queries_train], answers_train,\n",
    "          batch_size=32,\n",
    "          epochs=120,\n",
    "          validation_data=([inputs_test, queries_test], answers_test))"
   ]
  },
  {
   "cell_type": "code",
   "execution_count": 26,
   "metadata": {},
   "outputs": [],
   "source": [
    "model_path1 = r'model1.h5'\n",
    "model.save(model_path1)\n",
    "#model save as pickle file\n",
    "# model load again\n",
    "# write story answer question in the format in a text file"
   ]
  },
  {
   "cell_type": "code",
   "execution_count": 27,
   "metadata": {},
   "outputs": [],
   "source": [
    "model.load_weights(model_path1)\n",
    "pred_results = model.predict(([inputs_test, queries_test]))"
   ]
  },
  {
   "cell_type": "code",
   "execution_count": 28,
   "metadata": {},
   "outputs": [
    {
     "name": "stdout",
     "output_type": "stream",
     "text": [
      "Story is: Daniel went back to the bathroom . Mary went back to the bathroom . Mary went to the garden . Sandra moved to the bedroom .\n",
      "Question is:  Where is Daniel ?\n",
      "Actual answer is:  bathroom\n"
     ]
    }
   ],
   "source": [
    "# Display a selected test story\n",
    "\n",
    "n = np.random.randint(0,1000)\n",
    "story_list = test_stories[n][0]\n",
    "story =' '.join(word for word in story_list)\n",
    "print(\"Story is:\",story)\n",
    "\n",
    "question_list = test_stories[n][1]\n",
    "ques =' '.join(word for word in question_list)\n",
    "print(\"Question is: \",ques)\n",
    "\n",
    "ans = test_stories[n][2]\n",
    "print(\"Actual answer is: \", ans)\n"
   ]
  },
  {
   "cell_type": "code",
   "execution_count": 29,
   "metadata": {},
   "outputs": [
    {
     "name": "stdout",
     "output_type": "stream",
     "text": [
      "Machine answer is:  bathroom\n",
      "I am  0.99957067 certain of it\n"
     ]
    }
   ],
   "source": [
    "#Generate prediction from model\n",
    "\n",
    "val_max = np.argmax(pred_results[n])\n",
    "\n",
    "for key, val in word_idx.items():\n",
    "    if val == val_max:\n",
    "        k = key\n",
    "\n",
    "print(\"Machine answer is: \", k)\n",
    "print(\"I am \", pred_results[n][val_max], \"certain of it\")"
   ]
  },
  {
   "cell_type": "code",
   "execution_count": 30,
   "metadata": {},
   "outputs": [],
   "source": [
    "## Read my own file\n",
    "\n",
    "# f = open(r\"C:\\Users\\priya\\Documents\\my_dl\\qachatbot\\my_test_q2.txt\", \"r\")\n",
    "# print(f.readlines())\n",
    "# data = parse_stories(f.readlines(), only_supporting=False)\n",
    "# print(data)\n",
    "# extra_stories = get_stories(f, only_supporting=False, max_length=None)\n",
    "#\n",
    "# print(extra_stories)"
   ]
  },
  {
   "cell_type": "code",
   "execution_count": null,
   "metadata": {},
   "outputs": [],
   "source": []
  }
 ],
 "metadata": {
  "kernelspec": {
   "display_name": "Python 3",
   "language": "python",
   "name": "python3"
  },
  "language_info": {
   "codemirror_mode": {
    "name": "ipython",
    "version": 3
   },
   "file_extension": ".py",
   "mimetype": "text/x-python",
   "name": "python",
   "nbconvert_exporter": "python",
   "pygments_lexer": "ipython3",
   "version": "3.6.5"
  }
 },
 "nbformat": 4,
 "nbformat_minor": 2
}
